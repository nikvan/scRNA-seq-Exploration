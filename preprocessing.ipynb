{
 "cells": [
  {
   "cell_type": "markdown",
   "metadata": {
    "id": "ReoBzap1acVv"
   },
   "source": [
    "# Data loading and preprocessing\n",
    "\n",
    "In this tutorial, we demonstrate how to process a 31,000 cell 27-day time course of embryoid body (EB) differentiation using scRNA-seq.\n",
    "\n",
    "We review the following steps:\n",
    "\n",
    "1. Loading 10X data  \n",
    "2. Filtering\n",
    "3. Normalization\n",
    "4. Transformation"
   ]
  },
  {
   "cell_type": "markdown",
   "metadata": {
    "id": "B8EKdb-_PK8x"
   },
   "source": [
    "## 0. Introducing `scprep`\n",
    "\n",
    "`scprep` is a lightweight scRNA-seq toolkit for `python` Data Scientists.\n",
    "\n",
    "Most scRNA-seq toolkits are written in `R` (the most famous being [Seurat](https://satijalab.org/seurat/)), but we (and a majority of machine learning / data scientists) develop our tools in `python`. Currently, [Scanpy](https://icb-scanpy.readthedocs-hosted.com/en/stable/) is the most popular toolkit for scRNA-seq analysis in `python`. However, Scanpy has a highly structured framework for data representation that is incompatible with the bulk of the `python` data science framework, e.g. [pandas](https://pandas.pydata.org/), [SciPy](https://www.scipy.org/), and [scikit-learn](https://scikit-learn.org/stable/).\n",
    "\n",
    "To accommodate users of the wider `python` data analysis ecosystem, we developed `scprep` (<b>s</b>ingle <b>c</b>ell <b>prep</b>aration). `scprep` makes it easier to use the pandas / SciPy / scikit-learn ecosystem for scRNA-seq analysis. Most of `scprep` is composed of helper functions to perform tasks common to single cell data like loading counts matrices, filtering & normalizing cells by library size, and calculating common statistics. The key advantage of `scprep` is that data can be stored in Pandas DataFrames, NumPy arrays, Scipy sparse matrices, and no matter which tools you choose to interface with, _it just works_.\n",
    "\n",
    "To learn more about `scprep`, you can read the documentation at https://scprep.readthedocs.io/."
   ]
  },
  {
   "cell_type": "markdown",
   "metadata": {
    "id": "oBJb_vVW1ONw"
   },
   "source": [
    "## 1. Install tools\n",
    "\n",
    "To run this notebook, you need to download a couple of packages. Unfortunately, due to restrictions of Google CoLab, these installations won't be saved. A workaround can be found at the following link if you're interested: https://stackoverflow.com/questions/52582858/saving-pip-installs-in-google-colab\n",
    "\n",
    "For now, simply run the following line of code by clicking on the code cell and hit `Shift` + `Enter`."
   ]
  },
  {
   "cell_type": "code",
   "execution_count": 1,
   "metadata": {
    "colab": {
     "base_uri": "https://localhost:8080/"
    },
    "id": "RUZx-nc_1Mdr",
    "outputId": "3d2dd324-4c3f-4e73-d632-ddaba3842c16"
   },
   "outputs": [
    {
     "name": "stdout",
     "output_type": "stream",
     "text": [
      "Collecting scprep\n",
      "\u001b[?25l  Downloading https://files.pythonhosted.org/packages/34/50/22d102aa295556f508b24fd8149c05207cf093e082a2c0eab2d3d7c00978/scprep-1.0.13-py3-none-any.whl (100kB)\n",
      "\r",
      "\u001b[K     |███▎                            | 10kB 15.6MB/s eta 0:00:01\r",
      "\u001b[K     |██████▌                         | 20kB 14.3MB/s eta 0:00:01\r",
      "\u001b[K     |█████████▊                      | 30kB 8.4MB/s eta 0:00:01\r",
      "\u001b[K     |█████████████                   | 40kB 7.8MB/s eta 0:00:01\r",
      "\u001b[K     |████████████████▎               | 51kB 4.0MB/s eta 0:00:01\r",
      "\u001b[K     |███████████████████▌            | 61kB 4.5MB/s eta 0:00:01\r",
      "\u001b[K     |██████████████████████▉         | 71kB 4.7MB/s eta 0:00:01\r",
      "\u001b[K     |██████████████████████████      | 81kB 5.0MB/s eta 0:00:01\r",
      "\u001b[K     |█████████████████████████████▎  | 92kB 5.3MB/s eta 0:00:01\r",
      "\u001b[K     |████████████████████████████████| 102kB 3.7MB/s \n",
      "\u001b[?25hCollecting tasklogger\n",
      "  Downloading https://files.pythonhosted.org/packages/5d/6b/cb2a724eff19829a0ada0217f403f54fca1e48c7de6fc3383e0a8b8fa121/tasklogger-1.0.0-py3-none-any.whl\n",
      "Requirement already satisfied: scikit-learn>=0.19.1 in /usr/local/lib/python3.7/dist-packages (from scprep) (0.22.2.post1)\n",
      "Requirement already satisfied: decorator>=4.3.0 in /usr/local/lib/python3.7/dist-packages (from scprep) (4.4.2)\n",
      "Requirement already satisfied: pandas>=0.25 in /usr/local/lib/python3.7/dist-packages (from scprep) (1.1.5)\n",
      "Requirement already satisfied: scipy>=0.18.1 in /usr/local/lib/python3.7/dist-packages (from scprep) (1.4.1)\n",
      "Requirement already satisfied: packaging in /usr/local/lib/python3.7/dist-packages (from scprep) (20.9)\n",
      "Requirement already satisfied: numpy>=1.12.0 in /usr/local/lib/python3.7/dist-packages (from scprep) (1.19.5)\n",
      "Requirement already satisfied: future in /usr/local/lib/python3.7/dist-packages (from tasklogger) (0.16.0)\n",
      "Requirement already satisfied: joblib>=0.11 in /usr/local/lib/python3.7/dist-packages (from scikit-learn>=0.19.1->scprep) (1.0.1)\n",
      "Requirement already satisfied: pytz>=2017.2 in /usr/local/lib/python3.7/dist-packages (from pandas>=0.25->scprep) (2018.9)\n",
      "Requirement already satisfied: python-dateutil>=2.7.3 in /usr/local/lib/python3.7/dist-packages (from pandas>=0.25->scprep) (2.8.1)\n",
      "Requirement already satisfied: pyparsing>=2.0.2 in /usr/local/lib/python3.7/dist-packages (from packaging->scprep) (2.4.7)\n",
      "Requirement already satisfied: six>=1.5 in /usr/local/lib/python3.7/dist-packages (from python-dateutil>=2.7.3->pandas>=0.25->scprep) (1.15.0)\n",
      "Installing collected packages: scprep, tasklogger\n",
      "Successfully installed scprep-1.0.13 tasklogger-1.0.0\n"
     ]
    }
   ],
   "source": [
    "!pip install scprep tasklogger"
   ]
  },
  {
   "cell_type": "markdown",
   "metadata": {
    "id": "lLeE0wGiacVx"
   },
   "source": [
    "### Time course of human embryoid body differentation\n",
    "\n",
    "Low passage H1 hESCs were maintained on Matrigel-coated dishes in DMEM/F12-N2B27 media supplemented with FGF2. For EB (Embriod Body) formation, cells were treated with Dispase, dissociated into small clumps and plated in non-adherent plates in media supplemented with 20% FBS, which was prescreened for EB differentiation. Samples were collected during 3-day intervals during a 27 day-long differentiation timecourse. An undifferentiated hESC sample was also included (Figure S7D). Induction of key germ layer markers in these EB cultures was validated by qPCR (data not shown). For single cell analyses, EB cultures were dissociated, FACS sorted to remove doublets and dead cells and processed on a 10x genomics instrument to generate cDNA libraries, which were then sequenced. Small scale sequencing determined that we have successfully collected data on approximately 31,000 cells equally distributed throughout the timecourse."
   ]
  },
  {
   "cell_type": "markdown",
   "metadata": {
    "id": "XUF17reyacVy"
   },
   "source": [
    "<a id='loading'></a>\n",
    "## 2. Loading 10X data"
   ]
  },
  {
   "cell_type": "markdown",
   "metadata": {
    "id": "oNu79_4iacVz"
   },
   "source": [
    "### Downloading Data from Mendeley Datasets\n",
    "\n",
    "The EB dataset is publically available as `scRNAseq.zip` at Mendelay Datasets at <https://data.mendeley.com/datasets/v6n743h5ng/>. \n",
    "\n",
    "Inside the scRNAseq folder, there are five subdirectories, and in each subdirectory are three files: `barcodes.tsv`, `genes.tsv`, and `matrix.mtx`. For more information about how CellRanger produces these files, check out the [Gene-Barcode Matrices Documentation](https://support.10xgenomics.com/single-cell-gene-expression/software/pipelines/latest/output/matrices).\n",
    "\n",
    "Here's the directory structure:\n",
    "```\n",
    "download_path\n",
    "└── scRNAseq\n",
    "    ├── scRNAseq.zip\n",
    "    ├── T0_1A\n",
    "    │   ├── barcodes.tsv\n",
    "    │   ├── genes.tsv\n",
    "    │   └── matrix.mtx\n",
    "    ├── T2_3B\n",
    "    │   ├── barcodes.tsv\n",
    "    │   ├── genes.tsv\n",
    "    │   └── matrix.mtx\n",
    "    ├── T4_5C\n",
    "    │   ├── barcodes.tsv\n",
    "    │   ├── genes.tsv\n",
    "    │   └── matrix.mtx\n",
    "    ├── T6_7D\n",
    "    │   ├── barcodes.tsv\n",
    "    │   ├── genes.tsv\n",
    "    │   └── matrix.mtx\n",
    "    └── T8_9E\n",
    "        ├── barcodes.tsv\n",
    "        ├── genes.tsv\n",
    "        └── matrix.mtx\n",
    "```\n",
    "\n",
    "If you have downloaded the files already, set the `download_path` below to the directory where you saved the files. If not, the following code will download the data for you. Not that the download is 746MB: you must have sufficient disk space for the download.\n",
    "\n",
    "**Please Note:** If you are trying to analyze data generated by a more recent version of `cellranger` (a program provided by 10X Genomics to go from raw fastq files to count matrices), the three files generated per sample are `barcodes.tsv.gz`, `features.tsv.gz`, and `matrix.mtx.gz`. The procedure for loading these files with `scprep` is the same as with the previous version."
   ]
  },
  {
   "cell_type": "code",
   "execution_count": 2,
   "metadata": {
    "colab": {
     "base_uri": "https://localhost:8080/"
    },
    "id": "hbs5FLjZacV0",
    "outputId": "672ab2d4-158b-43c9-8f99-63206674a793"
   },
   "outputs": [
    {
     "name": "stdout",
     "output_type": "stream",
     "text": [
      "/root\n"
     ]
    }
   ],
   "source": [
    "import os\n",
    "import scprep\n",
    "download_path = os.path.expanduser(\"~\")\n",
    "print(download_path)"
   ]
  },
  {
   "cell_type": "code",
   "execution_count": 3,
   "metadata": {
    "id": "uxD_XVSuacV6"
   },
   "outputs": [],
   "source": [
    "if not os.path.isdir(os.path.join(download_path, \"scRNAseq\", \"T0_1A\")):\n",
    "    scprep.io.download.download_and_extract_zip(\n",
    "        url=\"https://md-datasets-public-files-prod.s3.eu-west-1.amazonaws.com/\"\n",
    "        \"5739738f-d4dd-49f7-b8d1-5841abdbeb1e\",\n",
    "        destination=download_path)"
   ]
  },
  {
   "cell_type": "markdown",
   "metadata": {
    "id": "AaPgko5lacWp"
   },
   "source": [
    "### Using `scprep` to import data into Pandas DataFrames\n",
    "\n",
    "\n",
    "We use a toolkit for loading and manipulating single-cell data called `scprep`. The function `load_10X` will automatically load 10X scRNAseq datasets (and others) into a Pandas DataFrame. DataFrames are incredibly useful tools for data analysis in Python. To learn more about them, [check out the Pandas Documentation and Tutorials](https://pandas.pydata.org/pandas-docs/stable/).\n",
    "\n",
    "\n",
    "Let's load the data and create a single matrix that we can use for preprocessing, visualization, and analysis."
   ]
  },
  {
   "cell_type": "markdown",
   "metadata": {
    "id": "8UwGtjtSacWx"
   },
   "source": [
    "### 2.1. Standard imports\n",
    "\n",
    "We'll import these few packages at the beginning of nearly every session."
   ]
  },
  {
   "cell_type": "code",
   "execution_count": 4,
   "metadata": {
    "id": "xHNATT38acWz"
   },
   "outputs": [],
   "source": [
    "import pandas as pd\n",
    "import numpy as np\n",
    "import scprep\n",
    "\n",
    "import matplotlib.pyplot as plt\n",
    "\n",
    "# matplotlib settings for Jupyter notebooks only\n",
    "%matplotlib inline"
   ]
  },
  {
   "cell_type": "markdown",
   "metadata": {
    "id": "DVlHIGbHacW8"
   },
   "source": [
    "### 2.2. Use `scprep.io.load_10X` to import all three matrices into a DataFrame\n",
    "\n",
    "#### Understanding the difference between sparse and dense data\n",
    "\n",
    "By default, `scprep.io.load_10X` loads scRNA-seq data using the Pandas DataFrame with sparse columns [(**see Pandas docs**)](https://pandas.pydata.org/pandas-docs/stable/user_guide/sparse.html) to maximize memory efficiency. However, this will be slower than loading on a dense matrix. Let's have a look at how long it takes to load the data from the first time point and how much memory it uses with dense and sparse data. We'll use `tasklogger` to measure how long each loading step takes."
   ]
  },
  {
   "cell_type": "code",
   "execution_count": 5,
   "metadata": {
    "colab": {
     "base_uri": "https://localhost:8080/"
    },
    "id": "mcSRyIBqPK80",
    "outputId": "6f30aee4-9943-42ad-96d4-4dbd66630314"
   },
   "outputs": [
    {
     "name": "stdout",
     "output_type": "stream",
     "text": [
      "Calculating dense...\n",
      "Calculated dense in 19.60 seconds.\n",
      "Size: 1196.5MB\n",
      "Calculating sparse...\n",
      "Calculated sparse in 22.47 seconds.\n",
      "Size: 123.0MB\n"
     ]
    }
   ],
   "source": [
    "import tasklogger\n",
    "import pickle\n",
    "\n",
    "# load data in dense format\n",
    "with tasklogger.log_task(\"dense\"):\n",
    "    data_time1 = scprep.io.load_10X(os.path.join(download_path, \"scRNAseq\", \"T0_1A\"),\n",
    "                                    sparse=False, gene_labels='both')\n",
    "    \n",
    "# measure the size of the matrix with pickle\n",
    "print(\"Size: {:.1f}MB\".format(len(pickle.dumps(data_time1)) / 1024**2))\n",
    "\n",
    "# load data in sparse format\n",
    "with tasklogger.log_task(\"sparse\"):\n",
    "    data_time1 = scprep.io.load_10X(os.path.join(download_path, \"scRNAseq\", \"T0_1A\"),\n",
    "                                    sparse=True, gene_labels='both')\n",
    "    \n",
    "# measure the size of the matrix with pickle\n",
    "print(\"Size: {:.1f}MB\".format(len(pickle.dumps(data_time1)) / 1024**2))"
   ]
  },
  {
   "cell_type": "markdown",
   "metadata": {
    "id": "QyF75L7sPK81"
   },
   "source": [
    "So for a small penalty in computation time, we can save a lot of memory. If memory is limited (for example, on Google Colaboratory) it's recommended that you use the sparse format.\n",
    "\n",
    "You'll also notice that we've received a warning (above in red) that the gene symbols are not unique. This doesn't cause a problem with the dense data, but it does with the sparse. We can specify `gene_labels='both'` to ask for our column names as `SYMB (ENSID)` which gives us both the human readability of symbols but also the uniqueness of Ensembl IDs."
   ]
  },
  {
   "cell_type": "markdown",
   "metadata": {
    "id": "hTh0yb5-PK81"
   },
   "source": [
    "#### Understanding the data matrix\n",
    "\n",
    "How big is our matrix? We can find out with `data.shape`."
   ]
  },
  {
   "cell_type": "code",
   "execution_count": 6,
   "metadata": {
    "colab": {
     "base_uri": "https://localhost:8080/"
    },
    "id": "y67Y91r7PK81",
    "outputId": "a16a90ef-0ecc-4e06-d8d8-bcce57f1454b"
   },
   "outputs": [
    {
     "data": {
      "text/plain": [
       "(4649, 33694)"
      ]
     },
     "execution_count": 6,
     "metadata": {
      "tags": []
     },
     "output_type": "execute_result"
    }
   ],
   "source": [
    "data_time1.shape"
   ]
  },
  {
   "cell_type": "markdown",
   "metadata": {
    "id": "2ot4pE0wPK82"
   },
   "source": [
    "We have 4,700 cells (rows) and 33,600 genes (columns). Each row and column has a name associated with it."
   ]
  },
  {
   "cell_type": "markdown",
   "metadata": {
    "id": "44-fEDmqPK82"
   },
   "source": [
    "The _columns_ refer to the genes, of features of the data. `data.columns` gives these as a list."
   ]
  },
  {
   "cell_type": "code",
   "execution_count": 7,
   "metadata": {
    "colab": {
     "base_uri": "https://localhost:8080/"
    },
    "id": "RYAAGB9QPK82",
    "outputId": "f914b754-b774-47dd-a3c1-bc3e19bbc17d"
   },
   "outputs": [
    {
     "data": {
      "text/plain": [
       "Index(['RP11-34P13.3 (ENSG00000243485)', 'FAM138A (ENSG00000237613)',\n",
       "       'OR4F5 (ENSG00000186092)', 'RP11-34P13.7 (ENSG00000238009)',\n",
       "       'RP11-34P13.8 (ENSG00000239945)', 'RP11-34P13.14 (ENSG00000239906)',\n",
       "       'RP11-34P13.9 (ENSG00000241599)', 'FO538757.3 (ENSG00000279928)',\n",
       "       'FO538757.2 (ENSG00000279457)', 'AP006222.2 (ENSG00000228463)',\n",
       "       ...\n",
       "       'AC007325.2 (ENSG00000277196)', 'BX072566.1 (ENSG00000277630)',\n",
       "       'AL354822.1 (ENSG00000278384)', 'AC023491.2 (ENSG00000278633)',\n",
       "       'AC004556.1 (ENSG00000276345)', 'AC233755.2 (ENSG00000277856)',\n",
       "       'AC233755.1 (ENSG00000275063)', 'AC240274.1 (ENSG00000271254)',\n",
       "       'AC213203.1 (ENSG00000277475)', 'FAM231B (ENSG00000268674)'],\n",
       "      dtype='object', length=33694)"
      ]
     },
     "execution_count": 7,
     "metadata": {
      "tags": []
     },
     "output_type": "execute_result"
    }
   ],
   "source": [
    "data_time1.columns"
   ]
  },
  {
   "cell_type": "markdown",
   "metadata": {
    "id": "1ucAUbnTPK82"
   },
   "source": [
    "The _rows_ refer to the cells, of observations of the data. `data.index` gives these as a list."
   ]
  },
  {
   "cell_type": "code",
   "execution_count": 8,
   "metadata": {
    "colab": {
     "base_uri": "https://localhost:8080/"
    },
    "id": "hyLVnAbLPK82",
    "outputId": "762c7911-cfc5-4ef9-b2be-eac04662449f"
   },
   "outputs": [
    {
     "data": {
      "text/plain": [
       "Index(['AAACATACCAGAGG-1', 'AAACATTGAAAGCA-1', 'AAACATTGAAGTGA-1',\n",
       "       'AAACATTGGAGGTG-1', 'AAACATTGGTTTCT-1', 'AAACCGTGCAGAAA-1',\n",
       "       'AAACCGTGGAAGGC-1', 'AAACCGTGGCTACA-1', 'AAACGCACCGGTAT-1',\n",
       "       'AAACGCACCTATTC-1',\n",
       "       ...\n",
       "       'TTTCGAACCCTCGT-1', 'TTTCGAACGTCCTC-1', 'TTTCTACTATCGAC-1',\n",
       "       'TTTGACTGAACGTC-1', 'TTTGACTGCTCAAG-1', 'TTTGACTGCTTCTA-1',\n",
       "       'TTTGACTGTGCCCT-1', 'TTTGCATGAGGTCT-1', 'TTTGCATGGGCGAA-1',\n",
       "       'TTTGCATGTGACAC-1'],\n",
       "      dtype='object', name=0, length=4649)"
      ]
     },
     "execution_count": 8,
     "metadata": {
      "tags": []
     },
     "output_type": "execute_result"
    }
   ],
   "source": [
    "data_time1.index"
   ]
  },
  {
   "cell_type": "markdown",
   "metadata": {
    "id": "h8Vv-ONVPK82"
   },
   "source": [
    "Note that some tools expect the opposite: that genes would be on the rows and cells on the columns. This is a hold-over from bulk RNA-seq, when it made sense for each replicate (of which there were few) to be a feature and each gene (of which there were many) to be an observation; however, now that we can have as many or more cells than genes, it makes more sense for cells to be observations. Keep this difference in mind when you try new tools."
   ]
  },
  {
   "cell_type": "markdown",
   "metadata": {
    "id": "15lu8zBfPK82"
   },
   "source": [
    "Finally, we can view the actual matrix, either by simply typing the matrix name to view the whole thing, or using the `.head()` function to view the first few rows."
   ]
  },
  {
   "cell_type": "code",
   "execution_count": 9,
   "metadata": {
    "colab": {
     "base_uri": "https://localhost:8080/",
     "height": 592
    },
    "id": "GQZxXN9xPK83",
    "outputId": "8ceb7faa-dca2-4483-d2e2-166b15d8a0a7"
   },
   "outputs": [
    {
     "data": {
      "text/html": [
       "<div>\n",
       "<style scoped>\n",
       "    .dataframe tbody tr th:only-of-type {\n",
       "        vertical-align: middle;\n",
       "    }\n",
       "\n",
       "    .dataframe tbody tr th {\n",
       "        vertical-align: top;\n",
       "    }\n",
       "\n",
       "    .dataframe thead th {\n",
       "        text-align: right;\n",
       "    }\n",
       "</style>\n",
       "<table border=\"1\" class=\"dataframe\">\n",
       "  <thead>\n",
       "    <tr style=\"text-align: right;\">\n",
       "      <th></th>\n",
       "      <th>RP11-34P13.3 (ENSG00000243485)</th>\n",
       "      <th>FAM138A (ENSG00000237613)</th>\n",
       "      <th>OR4F5 (ENSG00000186092)</th>\n",
       "      <th>RP11-34P13.7 (ENSG00000238009)</th>\n",
       "      <th>RP11-34P13.8 (ENSG00000239945)</th>\n",
       "      <th>RP11-34P13.14 (ENSG00000239906)</th>\n",
       "      <th>RP11-34P13.9 (ENSG00000241599)</th>\n",
       "      <th>FO538757.3 (ENSG00000279928)</th>\n",
       "      <th>FO538757.2 (ENSG00000279457)</th>\n",
       "      <th>AP006222.2 (ENSG00000228463)</th>\n",
       "      <th>RP5-857K21.15 (ENSG00000236743)</th>\n",
       "      <th>RP4-669L17.2 (ENSG00000236601)</th>\n",
       "      <th>RP4-669L17.10 (ENSG00000237094)</th>\n",
       "      <th>OR4F29 (ENSG00000278566)</th>\n",
       "      <th>RP5-857K21.4 (ENSG00000230021)</th>\n",
       "      <th>RP5-857K21.2 (ENSG00000235146)</th>\n",
       "      <th>OR4F16 (ENSG00000273547)</th>\n",
       "      <th>RP11-206L10.4 (ENSG00000229905)</th>\n",
       "      <th>RP11-206L10.9 (ENSG00000237491)</th>\n",
       "      <th>FAM87B (ENSG00000177757)</th>\n",
       "      <th>LINC00115 (ENSG00000225880)</th>\n",
       "      <th>FAM41C (ENSG00000230368)</th>\n",
       "      <th>RP11-54O7.16 (ENSG00000272438)</th>\n",
       "      <th>RP11-54O7.1 (ENSG00000230699)</th>\n",
       "      <th>RP11-54O7.2 (ENSG00000241180)</th>\n",
       "      <th>RP11-54O7.3 (ENSG00000223764)</th>\n",
       "      <th>SAMD11 (ENSG00000187634)</th>\n",
       "      <th>NOC2L (ENSG00000188976)</th>\n",
       "      <th>KLHL17 (ENSG00000187961)</th>\n",
       "      <th>PLEKHN1 (ENSG00000187583)</th>\n",
       "      <th>PERM1 (ENSG00000187642)</th>\n",
       "      <th>RP11-54O7.17 (ENSG00000272512)</th>\n",
       "      <th>HES4 (ENSG00000188290)</th>\n",
       "      <th>ISG15 (ENSG00000187608)</th>\n",
       "      <th>RP11-54O7.11 (ENSG00000224969)</th>\n",
       "      <th>AGRN (ENSG00000188157)</th>\n",
       "      <th>RP11-54O7.18 (ENSG00000273443)</th>\n",
       "      <th>RNF223 (ENSG00000237330)</th>\n",
       "      <th>C1orf159 (ENSG00000131591)</th>\n",
       "      <th>LINC01342 (ENSG00000223823)</th>\n",
       "      <th>...</th>\n",
       "      <th>MT-CO1 (ENSG00000198804)</th>\n",
       "      <th>MT-CO2 (ENSG00000198712)</th>\n",
       "      <th>MT-ATP8 (ENSG00000228253)</th>\n",
       "      <th>MT-ATP6 (ENSG00000198899)</th>\n",
       "      <th>MT-CO3 (ENSG00000198938)</th>\n",
       "      <th>MT-ND3 (ENSG00000198840)</th>\n",
       "      <th>MT-ND4L (ENSG00000212907)</th>\n",
       "      <th>MT-ND4 (ENSG00000198886)</th>\n",
       "      <th>MT-ND5 (ENSG00000198786)</th>\n",
       "      <th>MT-ND6 (ENSG00000198695)</th>\n",
       "      <th>MT-CYB (ENSG00000198727)</th>\n",
       "      <th>AC133551.1 (ENSG00000274175)</th>\n",
       "      <th>AC136612.1 (ENSG00000275869)</th>\n",
       "      <th>AC136616.1 (ENSG00000273554)</th>\n",
       "      <th>AC136616.3 (ENSG00000278782)</th>\n",
       "      <th>AC136616.2 (ENSG00000277761)</th>\n",
       "      <th>AC141272.1 (ENSG00000277836)</th>\n",
       "      <th>AC136352.5 (ENSG00000277666)</th>\n",
       "      <th>AC136352.4 (ENSG00000276760)</th>\n",
       "      <th>AC171558.2 (ENSG00000275249)</th>\n",
       "      <th>AC171558.1 (ENSG00000274792)</th>\n",
       "      <th>BX004987.4 (ENSG00000278704)</th>\n",
       "      <th>AC145212.4 (ENSG00000277400)</th>\n",
       "      <th>AC145212.2 (ENSG00000274847)</th>\n",
       "      <th>AC011841.1 (ENSG00000273496)</th>\n",
       "      <th>AC011043.1 (ENSG00000276256)</th>\n",
       "      <th>AC011043.2 (ENSG00000278198)</th>\n",
       "      <th>AL592183.1 (ENSG00000273748)</th>\n",
       "      <th>AC007325.1 (ENSG00000276017)</th>\n",
       "      <th>AC007325.4 (ENSG00000278817)</th>\n",
       "      <th>AC007325.2 (ENSG00000277196)</th>\n",
       "      <th>BX072566.1 (ENSG00000277630)</th>\n",
       "      <th>AL354822.1 (ENSG00000278384)</th>\n",
       "      <th>AC023491.2 (ENSG00000278633)</th>\n",
       "      <th>AC004556.1 (ENSG00000276345)</th>\n",
       "      <th>AC233755.2 (ENSG00000277856)</th>\n",
       "      <th>AC233755.1 (ENSG00000275063)</th>\n",
       "      <th>AC240274.1 (ENSG00000271254)</th>\n",
       "      <th>AC213203.1 (ENSG00000277475)</th>\n",
       "      <th>FAM231B (ENSG00000268674)</th>\n",
       "    </tr>\n",
       "    <tr>\n",
       "      <th>0</th>\n",
       "      <th></th>\n",
       "      <th></th>\n",
       "      <th></th>\n",
       "      <th></th>\n",
       "      <th></th>\n",
       "      <th></th>\n",
       "      <th></th>\n",
       "      <th></th>\n",
       "      <th></th>\n",
       "      <th></th>\n",
       "      <th></th>\n",
       "      <th></th>\n",
       "      <th></th>\n",
       "      <th></th>\n",
       "      <th></th>\n",
       "      <th></th>\n",
       "      <th></th>\n",
       "      <th></th>\n",
       "      <th></th>\n",
       "      <th></th>\n",
       "      <th></th>\n",
       "      <th></th>\n",
       "      <th></th>\n",
       "      <th></th>\n",
       "      <th></th>\n",
       "      <th></th>\n",
       "      <th></th>\n",
       "      <th></th>\n",
       "      <th></th>\n",
       "      <th></th>\n",
       "      <th></th>\n",
       "      <th></th>\n",
       "      <th></th>\n",
       "      <th></th>\n",
       "      <th></th>\n",
       "      <th></th>\n",
       "      <th></th>\n",
       "      <th></th>\n",
       "      <th></th>\n",
       "      <th></th>\n",
       "      <th></th>\n",
       "      <th></th>\n",
       "      <th></th>\n",
       "      <th></th>\n",
       "      <th></th>\n",
       "      <th></th>\n",
       "      <th></th>\n",
       "      <th></th>\n",
       "      <th></th>\n",
       "      <th></th>\n",
       "      <th></th>\n",
       "      <th></th>\n",
       "      <th></th>\n",
       "      <th></th>\n",
       "      <th></th>\n",
       "      <th></th>\n",
       "      <th></th>\n",
       "      <th></th>\n",
       "      <th></th>\n",
       "      <th></th>\n",
       "      <th></th>\n",
       "      <th></th>\n",
       "      <th></th>\n",
       "      <th></th>\n",
       "      <th></th>\n",
       "      <th></th>\n",
       "      <th></th>\n",
       "      <th></th>\n",
       "      <th></th>\n",
       "      <th></th>\n",
       "      <th></th>\n",
       "      <th></th>\n",
       "      <th></th>\n",
       "      <th></th>\n",
       "      <th></th>\n",
       "      <th></th>\n",
       "      <th></th>\n",
       "      <th></th>\n",
       "      <th></th>\n",
       "      <th></th>\n",
       "      <th></th>\n",
       "    </tr>\n",
       "  </thead>\n",
       "  <tbody>\n",
       "    <tr>\n",
       "      <th>AAACATACCAGAGG-1</th>\n",
       "      <td>0.0</td>\n",
       "      <td>0.0</td>\n",
       "      <td>0.0</td>\n",
       "      <td>0.0</td>\n",
       "      <td>0.0</td>\n",
       "      <td>0.0</td>\n",
       "      <td>0.0</td>\n",
       "      <td>0.0</td>\n",
       "      <td>1.0</td>\n",
       "      <td>0.0</td>\n",
       "      <td>0.0</td>\n",
       "      <td>0.0</td>\n",
       "      <td>0.0</td>\n",
       "      <td>0.0</td>\n",
       "      <td>0.0</td>\n",
       "      <td>0.0</td>\n",
       "      <td>0.0</td>\n",
       "      <td>0.0</td>\n",
       "      <td>0.0</td>\n",
       "      <td>0.0</td>\n",
       "      <td>0.0</td>\n",
       "      <td>0.0</td>\n",
       "      <td>0.0</td>\n",
       "      <td>0.0</td>\n",
       "      <td>0.0</td>\n",
       "      <td>0.0</td>\n",
       "      <td>0.0</td>\n",
       "      <td>0.0</td>\n",
       "      <td>0.0</td>\n",
       "      <td>0.0</td>\n",
       "      <td>0.0</td>\n",
       "      <td>0.0</td>\n",
       "      <td>0.0</td>\n",
       "      <td>0.0</td>\n",
       "      <td>0.0</td>\n",
       "      <td>0.0</td>\n",
       "      <td>0.0</td>\n",
       "      <td>0.0</td>\n",
       "      <td>0.0</td>\n",
       "      <td>0.0</td>\n",
       "      <td>...</td>\n",
       "      <td>59.0</td>\n",
       "      <td>69.0</td>\n",
       "      <td>0.0</td>\n",
       "      <td>18.0</td>\n",
       "      <td>45.0</td>\n",
       "      <td>3.0</td>\n",
       "      <td>0.0</td>\n",
       "      <td>28.0</td>\n",
       "      <td>9.0</td>\n",
       "      <td>2.0</td>\n",
       "      <td>42.0</td>\n",
       "      <td>0.0</td>\n",
       "      <td>0.0</td>\n",
       "      <td>0.0</td>\n",
       "      <td>0.0</td>\n",
       "      <td>0.0</td>\n",
       "      <td>0.0</td>\n",
       "      <td>0.0</td>\n",
       "      <td>0.0</td>\n",
       "      <td>0.0</td>\n",
       "      <td>0.0</td>\n",
       "      <td>0.0</td>\n",
       "      <td>0.0</td>\n",
       "      <td>0.0</td>\n",
       "      <td>0.0</td>\n",
       "      <td>0.0</td>\n",
       "      <td>0.0</td>\n",
       "      <td>0.0</td>\n",
       "      <td>0.0</td>\n",
       "      <td>0.0</td>\n",
       "      <td>0.0</td>\n",
       "      <td>0.0</td>\n",
       "      <td>0.0</td>\n",
       "      <td>0.0</td>\n",
       "      <td>0.0</td>\n",
       "      <td>0.0</td>\n",
       "      <td>0.0</td>\n",
       "      <td>0.0</td>\n",
       "      <td>0.0</td>\n",
       "      <td>0.0</td>\n",
       "    </tr>\n",
       "    <tr>\n",
       "      <th>AAACATTGAAAGCA-1</th>\n",
       "      <td>0.0</td>\n",
       "      <td>0.0</td>\n",
       "      <td>0.0</td>\n",
       "      <td>0.0</td>\n",
       "      <td>0.0</td>\n",
       "      <td>0.0</td>\n",
       "      <td>0.0</td>\n",
       "      <td>0.0</td>\n",
       "      <td>0.0</td>\n",
       "      <td>0.0</td>\n",
       "      <td>0.0</td>\n",
       "      <td>0.0</td>\n",
       "      <td>0.0</td>\n",
       "      <td>0.0</td>\n",
       "      <td>0.0</td>\n",
       "      <td>0.0</td>\n",
       "      <td>0.0</td>\n",
       "      <td>0.0</td>\n",
       "      <td>0.0</td>\n",
       "      <td>0.0</td>\n",
       "      <td>0.0</td>\n",
       "      <td>0.0</td>\n",
       "      <td>0.0</td>\n",
       "      <td>0.0</td>\n",
       "      <td>0.0</td>\n",
       "      <td>0.0</td>\n",
       "      <td>0.0</td>\n",
       "      <td>0.0</td>\n",
       "      <td>0.0</td>\n",
       "      <td>0.0</td>\n",
       "      <td>0.0</td>\n",
       "      <td>0.0</td>\n",
       "      <td>0.0</td>\n",
       "      <td>1.0</td>\n",
       "      <td>0.0</td>\n",
       "      <td>0.0</td>\n",
       "      <td>0.0</td>\n",
       "      <td>0.0</td>\n",
       "      <td>0.0</td>\n",
       "      <td>0.0</td>\n",
       "      <td>...</td>\n",
       "      <td>49.0</td>\n",
       "      <td>27.0</td>\n",
       "      <td>1.0</td>\n",
       "      <td>14.0</td>\n",
       "      <td>42.0</td>\n",
       "      <td>1.0</td>\n",
       "      <td>0.0</td>\n",
       "      <td>18.0</td>\n",
       "      <td>7.0</td>\n",
       "      <td>0.0</td>\n",
       "      <td>21.0</td>\n",
       "      <td>0.0</td>\n",
       "      <td>0.0</td>\n",
       "      <td>0.0</td>\n",
       "      <td>0.0</td>\n",
       "      <td>0.0</td>\n",
       "      <td>0.0</td>\n",
       "      <td>0.0</td>\n",
       "      <td>0.0</td>\n",
       "      <td>0.0</td>\n",
       "      <td>0.0</td>\n",
       "      <td>0.0</td>\n",
       "      <td>0.0</td>\n",
       "      <td>0.0</td>\n",
       "      <td>0.0</td>\n",
       "      <td>0.0</td>\n",
       "      <td>0.0</td>\n",
       "      <td>0.0</td>\n",
       "      <td>0.0</td>\n",
       "      <td>0.0</td>\n",
       "      <td>0.0</td>\n",
       "      <td>0.0</td>\n",
       "      <td>0.0</td>\n",
       "      <td>0.0</td>\n",
       "      <td>0.0</td>\n",
       "      <td>0.0</td>\n",
       "      <td>0.0</td>\n",
       "      <td>0.0</td>\n",
       "      <td>0.0</td>\n",
       "      <td>0.0</td>\n",
       "    </tr>\n",
       "    <tr>\n",
       "      <th>AAACATTGAAGTGA-1</th>\n",
       "      <td>0.0</td>\n",
       "      <td>0.0</td>\n",
       "      <td>0.0</td>\n",
       "      <td>0.0</td>\n",
       "      <td>0.0</td>\n",
       "      <td>0.0</td>\n",
       "      <td>0.0</td>\n",
       "      <td>0.0</td>\n",
       "      <td>0.0</td>\n",
       "      <td>0.0</td>\n",
       "      <td>0.0</td>\n",
       "      <td>0.0</td>\n",
       "      <td>0.0</td>\n",
       "      <td>0.0</td>\n",
       "      <td>0.0</td>\n",
       "      <td>0.0</td>\n",
       "      <td>0.0</td>\n",
       "      <td>0.0</td>\n",
       "      <td>0.0</td>\n",
       "      <td>0.0</td>\n",
       "      <td>0.0</td>\n",
       "      <td>0.0</td>\n",
       "      <td>0.0</td>\n",
       "      <td>0.0</td>\n",
       "      <td>0.0</td>\n",
       "      <td>0.0</td>\n",
       "      <td>0.0</td>\n",
       "      <td>0.0</td>\n",
       "      <td>0.0</td>\n",
       "      <td>0.0</td>\n",
       "      <td>0.0</td>\n",
       "      <td>0.0</td>\n",
       "      <td>0.0</td>\n",
       "      <td>0.0</td>\n",
       "      <td>0.0</td>\n",
       "      <td>0.0</td>\n",
       "      <td>0.0</td>\n",
       "      <td>0.0</td>\n",
       "      <td>0.0</td>\n",
       "      <td>0.0</td>\n",
       "      <td>...</td>\n",
       "      <td>21.0</td>\n",
       "      <td>18.0</td>\n",
       "      <td>0.0</td>\n",
       "      <td>8.0</td>\n",
       "      <td>17.0</td>\n",
       "      <td>1.0</td>\n",
       "      <td>0.0</td>\n",
       "      <td>9.0</td>\n",
       "      <td>5.0</td>\n",
       "      <td>0.0</td>\n",
       "      <td>22.0</td>\n",
       "      <td>0.0</td>\n",
       "      <td>0.0</td>\n",
       "      <td>0.0</td>\n",
       "      <td>0.0</td>\n",
       "      <td>0.0</td>\n",
       "      <td>0.0</td>\n",
       "      <td>0.0</td>\n",
       "      <td>0.0</td>\n",
       "      <td>0.0</td>\n",
       "      <td>0.0</td>\n",
       "      <td>0.0</td>\n",
       "      <td>0.0</td>\n",
       "      <td>0.0</td>\n",
       "      <td>0.0</td>\n",
       "      <td>1.0</td>\n",
       "      <td>0.0</td>\n",
       "      <td>0.0</td>\n",
       "      <td>0.0</td>\n",
       "      <td>0.0</td>\n",
       "      <td>0.0</td>\n",
       "      <td>0.0</td>\n",
       "      <td>0.0</td>\n",
       "      <td>0.0</td>\n",
       "      <td>0.0</td>\n",
       "      <td>0.0</td>\n",
       "      <td>0.0</td>\n",
       "      <td>0.0</td>\n",
       "      <td>0.0</td>\n",
       "      <td>0.0</td>\n",
       "    </tr>\n",
       "    <tr>\n",
       "      <th>AAACATTGGAGGTG-1</th>\n",
       "      <td>0.0</td>\n",
       "      <td>0.0</td>\n",
       "      <td>0.0</td>\n",
       "      <td>0.0</td>\n",
       "      <td>0.0</td>\n",
       "      <td>0.0</td>\n",
       "      <td>0.0</td>\n",
       "      <td>0.0</td>\n",
       "      <td>0.0</td>\n",
       "      <td>0.0</td>\n",
       "      <td>0.0</td>\n",
       "      <td>0.0</td>\n",
       "      <td>0.0</td>\n",
       "      <td>0.0</td>\n",
       "      <td>0.0</td>\n",
       "      <td>0.0</td>\n",
       "      <td>0.0</td>\n",
       "      <td>0.0</td>\n",
       "      <td>0.0</td>\n",
       "      <td>0.0</td>\n",
       "      <td>0.0</td>\n",
       "      <td>0.0</td>\n",
       "      <td>0.0</td>\n",
       "      <td>0.0</td>\n",
       "      <td>0.0</td>\n",
       "      <td>0.0</td>\n",
       "      <td>0.0</td>\n",
       "      <td>0.0</td>\n",
       "      <td>0.0</td>\n",
       "      <td>0.0</td>\n",
       "      <td>0.0</td>\n",
       "      <td>0.0</td>\n",
       "      <td>0.0</td>\n",
       "      <td>0.0</td>\n",
       "      <td>0.0</td>\n",
       "      <td>0.0</td>\n",
       "      <td>0.0</td>\n",
       "      <td>0.0</td>\n",
       "      <td>0.0</td>\n",
       "      <td>0.0</td>\n",
       "      <td>...</td>\n",
       "      <td>20.0</td>\n",
       "      <td>29.0</td>\n",
       "      <td>0.0</td>\n",
       "      <td>17.0</td>\n",
       "      <td>16.0</td>\n",
       "      <td>0.0</td>\n",
       "      <td>0.0</td>\n",
       "      <td>8.0</td>\n",
       "      <td>3.0</td>\n",
       "      <td>1.0</td>\n",
       "      <td>17.0</td>\n",
       "      <td>0.0</td>\n",
       "      <td>0.0</td>\n",
       "      <td>0.0</td>\n",
       "      <td>0.0</td>\n",
       "      <td>0.0</td>\n",
       "      <td>0.0</td>\n",
       "      <td>0.0</td>\n",
       "      <td>0.0</td>\n",
       "      <td>0.0</td>\n",
       "      <td>0.0</td>\n",
       "      <td>0.0</td>\n",
       "      <td>0.0</td>\n",
       "      <td>0.0</td>\n",
       "      <td>0.0</td>\n",
       "      <td>0.0</td>\n",
       "      <td>0.0</td>\n",
       "      <td>0.0</td>\n",
       "      <td>0.0</td>\n",
       "      <td>0.0</td>\n",
       "      <td>0.0</td>\n",
       "      <td>0.0</td>\n",
       "      <td>0.0</td>\n",
       "      <td>0.0</td>\n",
       "      <td>0.0</td>\n",
       "      <td>0.0</td>\n",
       "      <td>0.0</td>\n",
       "      <td>0.0</td>\n",
       "      <td>0.0</td>\n",
       "      <td>0.0</td>\n",
       "    </tr>\n",
       "    <tr>\n",
       "      <th>AAACATTGGTTTCT-1</th>\n",
       "      <td>0.0</td>\n",
       "      <td>0.0</td>\n",
       "      <td>0.0</td>\n",
       "      <td>0.0</td>\n",
       "      <td>0.0</td>\n",
       "      <td>0.0</td>\n",
       "      <td>0.0</td>\n",
       "      <td>0.0</td>\n",
       "      <td>0.0</td>\n",
       "      <td>0.0</td>\n",
       "      <td>0.0</td>\n",
       "      <td>0.0</td>\n",
       "      <td>0.0</td>\n",
       "      <td>0.0</td>\n",
       "      <td>0.0</td>\n",
       "      <td>0.0</td>\n",
       "      <td>0.0</td>\n",
       "      <td>0.0</td>\n",
       "      <td>0.0</td>\n",
       "      <td>0.0</td>\n",
       "      <td>0.0</td>\n",
       "      <td>0.0</td>\n",
       "      <td>0.0</td>\n",
       "      <td>0.0</td>\n",
       "      <td>0.0</td>\n",
       "      <td>0.0</td>\n",
       "      <td>0.0</td>\n",
       "      <td>0.0</td>\n",
       "      <td>0.0</td>\n",
       "      <td>0.0</td>\n",
       "      <td>0.0</td>\n",
       "      <td>0.0</td>\n",
       "      <td>0.0</td>\n",
       "      <td>0.0</td>\n",
       "      <td>0.0</td>\n",
       "      <td>0.0</td>\n",
       "      <td>0.0</td>\n",
       "      <td>0.0</td>\n",
       "      <td>0.0</td>\n",
       "      <td>0.0</td>\n",
       "      <td>...</td>\n",
       "      <td>45.0</td>\n",
       "      <td>35.0</td>\n",
       "      <td>0.0</td>\n",
       "      <td>12.0</td>\n",
       "      <td>38.0</td>\n",
       "      <td>2.0</td>\n",
       "      <td>0.0</td>\n",
       "      <td>11.0</td>\n",
       "      <td>1.0</td>\n",
       "      <td>0.0</td>\n",
       "      <td>21.0</td>\n",
       "      <td>0.0</td>\n",
       "      <td>0.0</td>\n",
       "      <td>0.0</td>\n",
       "      <td>0.0</td>\n",
       "      <td>0.0</td>\n",
       "      <td>0.0</td>\n",
       "      <td>0.0</td>\n",
       "      <td>0.0</td>\n",
       "      <td>0.0</td>\n",
       "      <td>0.0</td>\n",
       "      <td>0.0</td>\n",
       "      <td>0.0</td>\n",
       "      <td>0.0</td>\n",
       "      <td>0.0</td>\n",
       "      <td>0.0</td>\n",
       "      <td>0.0</td>\n",
       "      <td>0.0</td>\n",
       "      <td>0.0</td>\n",
       "      <td>0.0</td>\n",
       "      <td>0.0</td>\n",
       "      <td>0.0</td>\n",
       "      <td>0.0</td>\n",
       "      <td>0.0</td>\n",
       "      <td>0.0</td>\n",
       "      <td>0.0</td>\n",
       "      <td>0.0</td>\n",
       "      <td>0.0</td>\n",
       "      <td>0.0</td>\n",
       "      <td>0.0</td>\n",
       "    </tr>\n",
       "    <tr>\n",
       "      <th>AAACCGTGCAGAAA-1</th>\n",
       "      <td>0.0</td>\n",
       "      <td>0.0</td>\n",
       "      <td>0.0</td>\n",
       "      <td>0.0</td>\n",
       "      <td>0.0</td>\n",
       "      <td>0.0</td>\n",
       "      <td>0.0</td>\n",
       "      <td>0.0</td>\n",
       "      <td>0.0</td>\n",
       "      <td>0.0</td>\n",
       "      <td>0.0</td>\n",
       "      <td>0.0</td>\n",
       "      <td>0.0</td>\n",
       "      <td>0.0</td>\n",
       "      <td>0.0</td>\n",
       "      <td>0.0</td>\n",
       "      <td>0.0</td>\n",
       "      <td>0.0</td>\n",
       "      <td>0.0</td>\n",
       "      <td>0.0</td>\n",
       "      <td>0.0</td>\n",
       "      <td>0.0</td>\n",
       "      <td>0.0</td>\n",
       "      <td>0.0</td>\n",
       "      <td>0.0</td>\n",
       "      <td>0.0</td>\n",
       "      <td>0.0</td>\n",
       "      <td>0.0</td>\n",
       "      <td>0.0</td>\n",
       "      <td>0.0</td>\n",
       "      <td>0.0</td>\n",
       "      <td>0.0</td>\n",
       "      <td>0.0</td>\n",
       "      <td>0.0</td>\n",
       "      <td>0.0</td>\n",
       "      <td>0.0</td>\n",
       "      <td>0.0</td>\n",
       "      <td>0.0</td>\n",
       "      <td>0.0</td>\n",
       "      <td>0.0</td>\n",
       "      <td>...</td>\n",
       "      <td>24.0</td>\n",
       "      <td>33.0</td>\n",
       "      <td>0.0</td>\n",
       "      <td>8.0</td>\n",
       "      <td>22.0</td>\n",
       "      <td>0.0</td>\n",
       "      <td>0.0</td>\n",
       "      <td>12.0</td>\n",
       "      <td>4.0</td>\n",
       "      <td>0.0</td>\n",
       "      <td>16.0</td>\n",
       "      <td>0.0</td>\n",
       "      <td>0.0</td>\n",
       "      <td>0.0</td>\n",
       "      <td>0.0</td>\n",
       "      <td>0.0</td>\n",
       "      <td>0.0</td>\n",
       "      <td>0.0</td>\n",
       "      <td>0.0</td>\n",
       "      <td>0.0</td>\n",
       "      <td>0.0</td>\n",
       "      <td>0.0</td>\n",
       "      <td>0.0</td>\n",
       "      <td>0.0</td>\n",
       "      <td>0.0</td>\n",
       "      <td>0.0</td>\n",
       "      <td>0.0</td>\n",
       "      <td>0.0</td>\n",
       "      <td>0.0</td>\n",
       "      <td>0.0</td>\n",
       "      <td>0.0</td>\n",
       "      <td>0.0</td>\n",
       "      <td>0.0</td>\n",
       "      <td>0.0</td>\n",
       "      <td>0.0</td>\n",
       "      <td>0.0</td>\n",
       "      <td>0.0</td>\n",
       "      <td>0.0</td>\n",
       "      <td>0.0</td>\n",
       "      <td>0.0</td>\n",
       "    </tr>\n",
       "    <tr>\n",
       "      <th>AAACCGTGGAAGGC-1</th>\n",
       "      <td>0.0</td>\n",
       "      <td>0.0</td>\n",
       "      <td>0.0</td>\n",
       "      <td>0.0</td>\n",
       "      <td>0.0</td>\n",
       "      <td>0.0</td>\n",
       "      <td>0.0</td>\n",
       "      <td>0.0</td>\n",
       "      <td>0.0</td>\n",
       "      <td>0.0</td>\n",
       "      <td>0.0</td>\n",
       "      <td>0.0</td>\n",
       "      <td>0.0</td>\n",
       "      <td>0.0</td>\n",
       "      <td>0.0</td>\n",
       "      <td>0.0</td>\n",
       "      <td>0.0</td>\n",
       "      <td>0.0</td>\n",
       "      <td>0.0</td>\n",
       "      <td>0.0</td>\n",
       "      <td>0.0</td>\n",
       "      <td>0.0</td>\n",
       "      <td>0.0</td>\n",
       "      <td>0.0</td>\n",
       "      <td>0.0</td>\n",
       "      <td>0.0</td>\n",
       "      <td>0.0</td>\n",
       "      <td>1.0</td>\n",
       "      <td>0.0</td>\n",
       "      <td>0.0</td>\n",
       "      <td>0.0</td>\n",
       "      <td>0.0</td>\n",
       "      <td>0.0</td>\n",
       "      <td>0.0</td>\n",
       "      <td>0.0</td>\n",
       "      <td>0.0</td>\n",
       "      <td>0.0</td>\n",
       "      <td>0.0</td>\n",
       "      <td>0.0</td>\n",
       "      <td>0.0</td>\n",
       "      <td>...</td>\n",
       "      <td>33.0</td>\n",
       "      <td>44.0</td>\n",
       "      <td>0.0</td>\n",
       "      <td>25.0</td>\n",
       "      <td>59.0</td>\n",
       "      <td>3.0</td>\n",
       "      <td>0.0</td>\n",
       "      <td>33.0</td>\n",
       "      <td>3.0</td>\n",
       "      <td>1.0</td>\n",
       "      <td>41.0</td>\n",
       "      <td>0.0</td>\n",
       "      <td>0.0</td>\n",
       "      <td>0.0</td>\n",
       "      <td>0.0</td>\n",
       "      <td>0.0</td>\n",
       "      <td>0.0</td>\n",
       "      <td>0.0</td>\n",
       "      <td>0.0</td>\n",
       "      <td>0.0</td>\n",
       "      <td>0.0</td>\n",
       "      <td>0.0</td>\n",
       "      <td>0.0</td>\n",
       "      <td>0.0</td>\n",
       "      <td>0.0</td>\n",
       "      <td>0.0</td>\n",
       "      <td>0.0</td>\n",
       "      <td>0.0</td>\n",
       "      <td>0.0</td>\n",
       "      <td>0.0</td>\n",
       "      <td>0.0</td>\n",
       "      <td>0.0</td>\n",
       "      <td>0.0</td>\n",
       "      <td>0.0</td>\n",
       "      <td>0.0</td>\n",
       "      <td>0.0</td>\n",
       "      <td>0.0</td>\n",
       "      <td>0.0</td>\n",
       "      <td>0.0</td>\n",
       "      <td>0.0</td>\n",
       "    </tr>\n",
       "    <tr>\n",
       "      <th>AAACCGTGGCTACA-1</th>\n",
       "      <td>0.0</td>\n",
       "      <td>0.0</td>\n",
       "      <td>0.0</td>\n",
       "      <td>0.0</td>\n",
       "      <td>0.0</td>\n",
       "      <td>0.0</td>\n",
       "      <td>0.0</td>\n",
       "      <td>0.0</td>\n",
       "      <td>0.0</td>\n",
       "      <td>0.0</td>\n",
       "      <td>0.0</td>\n",
       "      <td>0.0</td>\n",
       "      <td>0.0</td>\n",
       "      <td>0.0</td>\n",
       "      <td>0.0</td>\n",
       "      <td>0.0</td>\n",
       "      <td>0.0</td>\n",
       "      <td>0.0</td>\n",
       "      <td>0.0</td>\n",
       "      <td>0.0</td>\n",
       "      <td>0.0</td>\n",
       "      <td>0.0</td>\n",
       "      <td>0.0</td>\n",
       "      <td>0.0</td>\n",
       "      <td>0.0</td>\n",
       "      <td>0.0</td>\n",
       "      <td>0.0</td>\n",
       "      <td>0.0</td>\n",
       "      <td>0.0</td>\n",
       "      <td>0.0</td>\n",
       "      <td>0.0</td>\n",
       "      <td>0.0</td>\n",
       "      <td>0.0</td>\n",
       "      <td>0.0</td>\n",
       "      <td>0.0</td>\n",
       "      <td>0.0</td>\n",
       "      <td>0.0</td>\n",
       "      <td>0.0</td>\n",
       "      <td>0.0</td>\n",
       "      <td>0.0</td>\n",
       "      <td>...</td>\n",
       "      <td>4.0</td>\n",
       "      <td>2.0</td>\n",
       "      <td>0.0</td>\n",
       "      <td>1.0</td>\n",
       "      <td>3.0</td>\n",
       "      <td>1.0</td>\n",
       "      <td>0.0</td>\n",
       "      <td>2.0</td>\n",
       "      <td>1.0</td>\n",
       "      <td>0.0</td>\n",
       "      <td>3.0</td>\n",
       "      <td>0.0</td>\n",
       "      <td>0.0</td>\n",
       "      <td>0.0</td>\n",
       "      <td>0.0</td>\n",
       "      <td>0.0</td>\n",
       "      <td>0.0</td>\n",
       "      <td>0.0</td>\n",
       "      <td>0.0</td>\n",
       "      <td>0.0</td>\n",
       "      <td>0.0</td>\n",
       "      <td>0.0</td>\n",
       "      <td>0.0</td>\n",
       "      <td>0.0</td>\n",
       "      <td>0.0</td>\n",
       "      <td>0.0</td>\n",
       "      <td>0.0</td>\n",
       "      <td>0.0</td>\n",
       "      <td>0.0</td>\n",
       "      <td>0.0</td>\n",
       "      <td>0.0</td>\n",
       "      <td>0.0</td>\n",
       "      <td>0.0</td>\n",
       "      <td>0.0</td>\n",
       "      <td>0.0</td>\n",
       "      <td>0.0</td>\n",
       "      <td>0.0</td>\n",
       "      <td>0.0</td>\n",
       "      <td>0.0</td>\n",
       "      <td>0.0</td>\n",
       "    </tr>\n",
       "    <tr>\n",
       "      <th>AAACGCACCGGTAT-1</th>\n",
       "      <td>0.0</td>\n",
       "      <td>0.0</td>\n",
       "      <td>0.0</td>\n",
       "      <td>0.0</td>\n",
       "      <td>0.0</td>\n",
       "      <td>0.0</td>\n",
       "      <td>0.0</td>\n",
       "      <td>0.0</td>\n",
       "      <td>0.0</td>\n",
       "      <td>0.0</td>\n",
       "      <td>0.0</td>\n",
       "      <td>0.0</td>\n",
       "      <td>0.0</td>\n",
       "      <td>0.0</td>\n",
       "      <td>0.0</td>\n",
       "      <td>0.0</td>\n",
       "      <td>0.0</td>\n",
       "      <td>0.0</td>\n",
       "      <td>0.0</td>\n",
       "      <td>0.0</td>\n",
       "      <td>0.0</td>\n",
       "      <td>0.0</td>\n",
       "      <td>0.0</td>\n",
       "      <td>0.0</td>\n",
       "      <td>0.0</td>\n",
       "      <td>0.0</td>\n",
       "      <td>0.0</td>\n",
       "      <td>2.0</td>\n",
       "      <td>0.0</td>\n",
       "      <td>0.0</td>\n",
       "      <td>0.0</td>\n",
       "      <td>0.0</td>\n",
       "      <td>0.0</td>\n",
       "      <td>0.0</td>\n",
       "      <td>0.0</td>\n",
       "      <td>0.0</td>\n",
       "      <td>0.0</td>\n",
       "      <td>0.0</td>\n",
       "      <td>0.0</td>\n",
       "      <td>0.0</td>\n",
       "      <td>...</td>\n",
       "      <td>39.0</td>\n",
       "      <td>28.0</td>\n",
       "      <td>0.0</td>\n",
       "      <td>23.0</td>\n",
       "      <td>54.0</td>\n",
       "      <td>3.0</td>\n",
       "      <td>0.0</td>\n",
       "      <td>23.0</td>\n",
       "      <td>3.0</td>\n",
       "      <td>1.0</td>\n",
       "      <td>25.0</td>\n",
       "      <td>0.0</td>\n",
       "      <td>0.0</td>\n",
       "      <td>0.0</td>\n",
       "      <td>0.0</td>\n",
       "      <td>0.0</td>\n",
       "      <td>0.0</td>\n",
       "      <td>0.0</td>\n",
       "      <td>0.0</td>\n",
       "      <td>0.0</td>\n",
       "      <td>0.0</td>\n",
       "      <td>0.0</td>\n",
       "      <td>0.0</td>\n",
       "      <td>0.0</td>\n",
       "      <td>0.0</td>\n",
       "      <td>0.0</td>\n",
       "      <td>0.0</td>\n",
       "      <td>0.0</td>\n",
       "      <td>0.0</td>\n",
       "      <td>0.0</td>\n",
       "      <td>0.0</td>\n",
       "      <td>0.0</td>\n",
       "      <td>0.0</td>\n",
       "      <td>0.0</td>\n",
       "      <td>0.0</td>\n",
       "      <td>0.0</td>\n",
       "      <td>0.0</td>\n",
       "      <td>0.0</td>\n",
       "      <td>0.0</td>\n",
       "      <td>0.0</td>\n",
       "    </tr>\n",
       "    <tr>\n",
       "      <th>AAACGCACCTATTC-1</th>\n",
       "      <td>0.0</td>\n",
       "      <td>0.0</td>\n",
       "      <td>0.0</td>\n",
       "      <td>0.0</td>\n",
       "      <td>0.0</td>\n",
       "      <td>0.0</td>\n",
       "      <td>0.0</td>\n",
       "      <td>0.0</td>\n",
       "      <td>0.0</td>\n",
       "      <td>0.0</td>\n",
       "      <td>0.0</td>\n",
       "      <td>0.0</td>\n",
       "      <td>0.0</td>\n",
       "      <td>0.0</td>\n",
       "      <td>0.0</td>\n",
       "      <td>0.0</td>\n",
       "      <td>0.0</td>\n",
       "      <td>0.0</td>\n",
       "      <td>0.0</td>\n",
       "      <td>0.0</td>\n",
       "      <td>0.0</td>\n",
       "      <td>0.0</td>\n",
       "      <td>0.0</td>\n",
       "      <td>0.0</td>\n",
       "      <td>0.0</td>\n",
       "      <td>0.0</td>\n",
       "      <td>0.0</td>\n",
       "      <td>0.0</td>\n",
       "      <td>0.0</td>\n",
       "      <td>0.0</td>\n",
       "      <td>0.0</td>\n",
       "      <td>0.0</td>\n",
       "      <td>0.0</td>\n",
       "      <td>1.0</td>\n",
       "      <td>0.0</td>\n",
       "      <td>0.0</td>\n",
       "      <td>0.0</td>\n",
       "      <td>0.0</td>\n",
       "      <td>0.0</td>\n",
       "      <td>0.0</td>\n",
       "      <td>...</td>\n",
       "      <td>49.0</td>\n",
       "      <td>34.0</td>\n",
       "      <td>0.0</td>\n",
       "      <td>18.0</td>\n",
       "      <td>43.0</td>\n",
       "      <td>0.0</td>\n",
       "      <td>0.0</td>\n",
       "      <td>21.0</td>\n",
       "      <td>4.0</td>\n",
       "      <td>0.0</td>\n",
       "      <td>35.0</td>\n",
       "      <td>0.0</td>\n",
       "      <td>0.0</td>\n",
       "      <td>0.0</td>\n",
       "      <td>0.0</td>\n",
       "      <td>0.0</td>\n",
       "      <td>0.0</td>\n",
       "      <td>0.0</td>\n",
       "      <td>0.0</td>\n",
       "      <td>0.0</td>\n",
       "      <td>0.0</td>\n",
       "      <td>0.0</td>\n",
       "      <td>0.0</td>\n",
       "      <td>0.0</td>\n",
       "      <td>0.0</td>\n",
       "      <td>0.0</td>\n",
       "      <td>0.0</td>\n",
       "      <td>0.0</td>\n",
       "      <td>0.0</td>\n",
       "      <td>0.0</td>\n",
       "      <td>0.0</td>\n",
       "      <td>0.0</td>\n",
       "      <td>0.0</td>\n",
       "      <td>0.0</td>\n",
       "      <td>0.0</td>\n",
       "      <td>0.0</td>\n",
       "      <td>0.0</td>\n",
       "      <td>0.0</td>\n",
       "      <td>0.0</td>\n",
       "      <td>0.0</td>\n",
       "    </tr>\n",
       "  </tbody>\n",
       "</table>\n",
       "<p>10 rows × 33694 columns</p>\n",
       "</div>"
      ],
      "text/plain": [
       "                  RP11-34P13.3 (ENSG00000243485)  ...  FAM231B (ENSG00000268674)\n",
       "0                                                 ...                           \n",
       "AAACATACCAGAGG-1                             0.0  ...                        0.0\n",
       "AAACATTGAAAGCA-1                             0.0  ...                        0.0\n",
       "AAACATTGAAGTGA-1                             0.0  ...                        0.0\n",
       "AAACATTGGAGGTG-1                             0.0  ...                        0.0\n",
       "AAACATTGGTTTCT-1                             0.0  ...                        0.0\n",
       "AAACCGTGCAGAAA-1                             0.0  ...                        0.0\n",
       "AAACCGTGGAAGGC-1                             0.0  ...                        0.0\n",
       "AAACCGTGGCTACA-1                             0.0  ...                        0.0\n",
       "AAACGCACCGGTAT-1                             0.0  ...                        0.0\n",
       "AAACGCACCTATTC-1                             0.0  ...                        0.0\n",
       "\n",
       "[10 rows x 33694 columns]"
      ]
     },
     "execution_count": 9,
     "metadata": {
      "tags": []
     },
     "output_type": "execute_result"
    }
   ],
   "source": [
    "data_time1.head(10)"
   ]
  },
  {
   "cell_type": "markdown",
   "metadata": {
    "id": "1Gl0uckXPK83"
   },
   "source": [
    "#### Loading the whole dataset\n",
    "\n",
    "Now we know how to load the data, let's load the data matrix for each sample (this may take a few minutes). Note that [`scprep.io`](https://scprep.readthedocs.io/en/stable/reference.html#module-scprep.io) has a range of different input functions: csv, tsv, mtx, and fcs are also available."
   ]
  },
  {
   "cell_type": "code",
   "execution_count": 10,
   "metadata": {
    "colab": {
     "base_uri": "https://localhost:8080/",
     "height": 471
    },
    "id": "9lc31so9acW-",
    "outputId": "3e229244-e4e9-4c02-b7cc-f4aa11f0faaa",
    "scrolled": true
   },
   "outputs": [
    {
     "name": "stdout",
     "output_type": "stream",
     "text": [
      "Loaded data for time point 1.\n",
      "Loaded data for time point 2.\n",
      "Loaded data for time point 3.\n",
      "Loaded data for time point 4.\n",
      "Loaded data for time point 5.\n"
     ]
    },
    {
     "data": {
      "text/html": [
       "<div>\n",
       "<style scoped>\n",
       "    .dataframe tbody tr th:only-of-type {\n",
       "        vertical-align: middle;\n",
       "    }\n",
       "\n",
       "    .dataframe tbody tr th {\n",
       "        vertical-align: top;\n",
       "    }\n",
       "\n",
       "    .dataframe thead th {\n",
       "        text-align: right;\n",
       "    }\n",
       "</style>\n",
       "<table border=\"1\" class=\"dataframe\">\n",
       "  <thead>\n",
       "    <tr style=\"text-align: right;\">\n",
       "      <th></th>\n",
       "      <th>RP11-34P13.3 (ENSG00000243485)</th>\n",
       "      <th>FAM138A (ENSG00000237613)</th>\n",
       "      <th>OR4F5 (ENSG00000186092)</th>\n",
       "      <th>RP11-34P13.7 (ENSG00000238009)</th>\n",
       "      <th>RP11-34P13.8 (ENSG00000239945)</th>\n",
       "      <th>RP11-34P13.14 (ENSG00000239906)</th>\n",
       "      <th>RP11-34P13.9 (ENSG00000241599)</th>\n",
       "      <th>FO538757.3 (ENSG00000279928)</th>\n",
       "      <th>FO538757.2 (ENSG00000279457)</th>\n",
       "      <th>AP006222.2 (ENSG00000228463)</th>\n",
       "      <th>RP5-857K21.15 (ENSG00000236743)</th>\n",
       "      <th>RP4-669L17.2 (ENSG00000236601)</th>\n",
       "      <th>RP4-669L17.10 (ENSG00000237094)</th>\n",
       "      <th>OR4F29 (ENSG00000278566)</th>\n",
       "      <th>RP5-857K21.4 (ENSG00000230021)</th>\n",
       "      <th>RP5-857K21.2 (ENSG00000235146)</th>\n",
       "      <th>OR4F16 (ENSG00000273547)</th>\n",
       "      <th>RP11-206L10.4 (ENSG00000229905)</th>\n",
       "      <th>RP11-206L10.9 (ENSG00000237491)</th>\n",
       "      <th>FAM87B (ENSG00000177757)</th>\n",
       "      <th>LINC00115 (ENSG00000225880)</th>\n",
       "      <th>FAM41C (ENSG00000230368)</th>\n",
       "      <th>RP11-54O7.16 (ENSG00000272438)</th>\n",
       "      <th>RP11-54O7.1 (ENSG00000230699)</th>\n",
       "      <th>RP11-54O7.2 (ENSG00000241180)</th>\n",
       "      <th>RP11-54O7.3 (ENSG00000223764)</th>\n",
       "      <th>SAMD11 (ENSG00000187634)</th>\n",
       "      <th>NOC2L (ENSG00000188976)</th>\n",
       "      <th>KLHL17 (ENSG00000187961)</th>\n",
       "      <th>PLEKHN1 (ENSG00000187583)</th>\n",
       "      <th>PERM1 (ENSG00000187642)</th>\n",
       "      <th>RP11-54O7.17 (ENSG00000272512)</th>\n",
       "      <th>HES4 (ENSG00000188290)</th>\n",
       "      <th>ISG15 (ENSG00000187608)</th>\n",
       "      <th>RP11-54O7.11 (ENSG00000224969)</th>\n",
       "      <th>AGRN (ENSG00000188157)</th>\n",
       "      <th>RP11-54O7.18 (ENSG00000273443)</th>\n",
       "      <th>RNF223 (ENSG00000237330)</th>\n",
       "      <th>C1orf159 (ENSG00000131591)</th>\n",
       "      <th>LINC01342 (ENSG00000223823)</th>\n",
       "      <th>...</th>\n",
       "      <th>MT-CO1 (ENSG00000198804)</th>\n",
       "      <th>MT-CO2 (ENSG00000198712)</th>\n",
       "      <th>MT-ATP8 (ENSG00000228253)</th>\n",
       "      <th>MT-ATP6 (ENSG00000198899)</th>\n",
       "      <th>MT-CO3 (ENSG00000198938)</th>\n",
       "      <th>MT-ND3 (ENSG00000198840)</th>\n",
       "      <th>MT-ND4L (ENSG00000212907)</th>\n",
       "      <th>MT-ND4 (ENSG00000198886)</th>\n",
       "      <th>MT-ND5 (ENSG00000198786)</th>\n",
       "      <th>MT-ND6 (ENSG00000198695)</th>\n",
       "      <th>MT-CYB (ENSG00000198727)</th>\n",
       "      <th>AC133551.1 (ENSG00000274175)</th>\n",
       "      <th>AC136612.1 (ENSG00000275869)</th>\n",
       "      <th>AC136616.1 (ENSG00000273554)</th>\n",
       "      <th>AC136616.3 (ENSG00000278782)</th>\n",
       "      <th>AC136616.2 (ENSG00000277761)</th>\n",
       "      <th>AC141272.1 (ENSG00000277836)</th>\n",
       "      <th>AC136352.5 (ENSG00000277666)</th>\n",
       "      <th>AC136352.4 (ENSG00000276760)</th>\n",
       "      <th>AC171558.2 (ENSG00000275249)</th>\n",
       "      <th>AC171558.1 (ENSG00000274792)</th>\n",
       "      <th>BX004987.4 (ENSG00000278704)</th>\n",
       "      <th>AC145212.4 (ENSG00000277400)</th>\n",
       "      <th>AC145212.2 (ENSG00000274847)</th>\n",
       "      <th>AC011841.1 (ENSG00000273496)</th>\n",
       "      <th>AC011043.1 (ENSG00000276256)</th>\n",
       "      <th>AC011043.2 (ENSG00000278198)</th>\n",
       "      <th>AL592183.1 (ENSG00000273748)</th>\n",
       "      <th>AC007325.1 (ENSG00000276017)</th>\n",
       "      <th>AC007325.4 (ENSG00000278817)</th>\n",
       "      <th>AC007325.2 (ENSG00000277196)</th>\n",
       "      <th>BX072566.1 (ENSG00000277630)</th>\n",
       "      <th>AL354822.1 (ENSG00000278384)</th>\n",
       "      <th>AC023491.2 (ENSG00000278633)</th>\n",
       "      <th>AC004556.1 (ENSG00000276345)</th>\n",
       "      <th>AC233755.2 (ENSG00000277856)</th>\n",
       "      <th>AC233755.1 (ENSG00000275063)</th>\n",
       "      <th>AC240274.1 (ENSG00000271254)</th>\n",
       "      <th>AC213203.1 (ENSG00000277475)</th>\n",
       "      <th>FAM231B (ENSG00000268674)</th>\n",
       "    </tr>\n",
       "    <tr>\n",
       "      <th>0</th>\n",
       "      <th></th>\n",
       "      <th></th>\n",
       "      <th></th>\n",
       "      <th></th>\n",
       "      <th></th>\n",
       "      <th></th>\n",
       "      <th></th>\n",
       "      <th></th>\n",
       "      <th></th>\n",
       "      <th></th>\n",
       "      <th></th>\n",
       "      <th></th>\n",
       "      <th></th>\n",
       "      <th></th>\n",
       "      <th></th>\n",
       "      <th></th>\n",
       "      <th></th>\n",
       "      <th></th>\n",
       "      <th></th>\n",
       "      <th></th>\n",
       "      <th></th>\n",
       "      <th></th>\n",
       "      <th></th>\n",
       "      <th></th>\n",
       "      <th></th>\n",
       "      <th></th>\n",
       "      <th></th>\n",
       "      <th></th>\n",
       "      <th></th>\n",
       "      <th></th>\n",
       "      <th></th>\n",
       "      <th></th>\n",
       "      <th></th>\n",
       "      <th></th>\n",
       "      <th></th>\n",
       "      <th></th>\n",
       "      <th></th>\n",
       "      <th></th>\n",
       "      <th></th>\n",
       "      <th></th>\n",
       "      <th></th>\n",
       "      <th></th>\n",
       "      <th></th>\n",
       "      <th></th>\n",
       "      <th></th>\n",
       "      <th></th>\n",
       "      <th></th>\n",
       "      <th></th>\n",
       "      <th></th>\n",
       "      <th></th>\n",
       "      <th></th>\n",
       "      <th></th>\n",
       "      <th></th>\n",
       "      <th></th>\n",
       "      <th></th>\n",
       "      <th></th>\n",
       "      <th></th>\n",
       "      <th></th>\n",
       "      <th></th>\n",
       "      <th></th>\n",
       "      <th></th>\n",
       "      <th></th>\n",
       "      <th></th>\n",
       "      <th></th>\n",
       "      <th></th>\n",
       "      <th></th>\n",
       "      <th></th>\n",
       "      <th></th>\n",
       "      <th></th>\n",
       "      <th></th>\n",
       "      <th></th>\n",
       "      <th></th>\n",
       "      <th></th>\n",
       "      <th></th>\n",
       "      <th></th>\n",
       "      <th></th>\n",
       "      <th></th>\n",
       "      <th></th>\n",
       "      <th></th>\n",
       "      <th></th>\n",
       "      <th></th>\n",
       "    </tr>\n",
       "  </thead>\n",
       "  <tbody>\n",
       "    <tr>\n",
       "      <th>AAACATACACCCAA-1</th>\n",
       "      <td>0.0</td>\n",
       "      <td>0.0</td>\n",
       "      <td>0.0</td>\n",
       "      <td>0.0</td>\n",
       "      <td>0.0</td>\n",
       "      <td>0.0</td>\n",
       "      <td>0.0</td>\n",
       "      <td>0.0</td>\n",
       "      <td>0.0</td>\n",
       "      <td>0.0</td>\n",
       "      <td>0.0</td>\n",
       "      <td>0.0</td>\n",
       "      <td>0.0</td>\n",
       "      <td>0.0</td>\n",
       "      <td>0.0</td>\n",
       "      <td>0.0</td>\n",
       "      <td>0.0</td>\n",
       "      <td>0.0</td>\n",
       "      <td>0.0</td>\n",
       "      <td>0.0</td>\n",
       "      <td>0.0</td>\n",
       "      <td>0.0</td>\n",
       "      <td>0.0</td>\n",
       "      <td>0.0</td>\n",
       "      <td>0.0</td>\n",
       "      <td>0.0</td>\n",
       "      <td>0.0</td>\n",
       "      <td>0.0</td>\n",
       "      <td>0.0</td>\n",
       "      <td>0.0</td>\n",
       "      <td>0.0</td>\n",
       "      <td>0.0</td>\n",
       "      <td>0.0</td>\n",
       "      <td>0.0</td>\n",
       "      <td>0.0</td>\n",
       "      <td>0.0</td>\n",
       "      <td>0.0</td>\n",
       "      <td>0.0</td>\n",
       "      <td>0.0</td>\n",
       "      <td>0.0</td>\n",
       "      <td>...</td>\n",
       "      <td>6.0</td>\n",
       "      <td>1.0</td>\n",
       "      <td>0.0</td>\n",
       "      <td>3.0</td>\n",
       "      <td>3.0</td>\n",
       "      <td>0.0</td>\n",
       "      <td>1.0</td>\n",
       "      <td>5.0</td>\n",
       "      <td>0.0</td>\n",
       "      <td>1.0</td>\n",
       "      <td>1.0</td>\n",
       "      <td>0.0</td>\n",
       "      <td>0.0</td>\n",
       "      <td>0.0</td>\n",
       "      <td>0.0</td>\n",
       "      <td>0.0</td>\n",
       "      <td>0.0</td>\n",
       "      <td>0.0</td>\n",
       "      <td>0.0</td>\n",
       "      <td>0.0</td>\n",
       "      <td>0.0</td>\n",
       "      <td>0.0</td>\n",
       "      <td>0.0</td>\n",
       "      <td>0.0</td>\n",
       "      <td>0.0</td>\n",
       "      <td>0.0</td>\n",
       "      <td>0.0</td>\n",
       "      <td>0.0</td>\n",
       "      <td>0.0</td>\n",
       "      <td>0.0</td>\n",
       "      <td>0.0</td>\n",
       "      <td>0.0</td>\n",
       "      <td>0.0</td>\n",
       "      <td>0.0</td>\n",
       "      <td>0.0</td>\n",
       "      <td>0.0</td>\n",
       "      <td>0.0</td>\n",
       "      <td>0.0</td>\n",
       "      <td>0.0</td>\n",
       "      <td>0.0</td>\n",
       "    </tr>\n",
       "    <tr>\n",
       "      <th>AAACATACCGAGTT-1</th>\n",
       "      <td>0.0</td>\n",
       "      <td>0.0</td>\n",
       "      <td>0.0</td>\n",
       "      <td>0.0</td>\n",
       "      <td>0.0</td>\n",
       "      <td>0.0</td>\n",
       "      <td>0.0</td>\n",
       "      <td>0.0</td>\n",
       "      <td>1.0</td>\n",
       "      <td>1.0</td>\n",
       "      <td>0.0</td>\n",
       "      <td>0.0</td>\n",
       "      <td>0.0</td>\n",
       "      <td>0.0</td>\n",
       "      <td>0.0</td>\n",
       "      <td>0.0</td>\n",
       "      <td>0.0</td>\n",
       "      <td>0.0</td>\n",
       "      <td>0.0</td>\n",
       "      <td>0.0</td>\n",
       "      <td>0.0</td>\n",
       "      <td>0.0</td>\n",
       "      <td>0.0</td>\n",
       "      <td>0.0</td>\n",
       "      <td>0.0</td>\n",
       "      <td>0.0</td>\n",
       "      <td>0.0</td>\n",
       "      <td>0.0</td>\n",
       "      <td>0.0</td>\n",
       "      <td>0.0</td>\n",
       "      <td>0.0</td>\n",
       "      <td>0.0</td>\n",
       "      <td>0.0</td>\n",
       "      <td>0.0</td>\n",
       "      <td>0.0</td>\n",
       "      <td>0.0</td>\n",
       "      <td>0.0</td>\n",
       "      <td>0.0</td>\n",
       "      <td>0.0</td>\n",
       "      <td>0.0</td>\n",
       "      <td>...</td>\n",
       "      <td>14.0</td>\n",
       "      <td>1.0</td>\n",
       "      <td>0.0</td>\n",
       "      <td>4.0</td>\n",
       "      <td>4.0</td>\n",
       "      <td>0.0</td>\n",
       "      <td>0.0</td>\n",
       "      <td>4.0</td>\n",
       "      <td>0.0</td>\n",
       "      <td>1.0</td>\n",
       "      <td>4.0</td>\n",
       "      <td>0.0</td>\n",
       "      <td>0.0</td>\n",
       "      <td>0.0</td>\n",
       "      <td>0.0</td>\n",
       "      <td>0.0</td>\n",
       "      <td>0.0</td>\n",
       "      <td>0.0</td>\n",
       "      <td>0.0</td>\n",
       "      <td>0.0</td>\n",
       "      <td>0.0</td>\n",
       "      <td>0.0</td>\n",
       "      <td>0.0</td>\n",
       "      <td>0.0</td>\n",
       "      <td>0.0</td>\n",
       "      <td>0.0</td>\n",
       "      <td>0.0</td>\n",
       "      <td>0.0</td>\n",
       "      <td>0.0</td>\n",
       "      <td>0.0</td>\n",
       "      <td>0.0</td>\n",
       "      <td>0.0</td>\n",
       "      <td>0.0</td>\n",
       "      <td>0.0</td>\n",
       "      <td>0.0</td>\n",
       "      <td>0.0</td>\n",
       "      <td>0.0</td>\n",
       "      <td>0.0</td>\n",
       "      <td>0.0</td>\n",
       "      <td>0.0</td>\n",
       "    </tr>\n",
       "    <tr>\n",
       "      <th>AAACATACGTAGCT-1</th>\n",
       "      <td>0.0</td>\n",
       "      <td>0.0</td>\n",
       "      <td>0.0</td>\n",
       "      <td>0.0</td>\n",
       "      <td>0.0</td>\n",
       "      <td>0.0</td>\n",
       "      <td>0.0</td>\n",
       "      <td>0.0</td>\n",
       "      <td>0.0</td>\n",
       "      <td>0.0</td>\n",
       "      <td>0.0</td>\n",
       "      <td>0.0</td>\n",
       "      <td>0.0</td>\n",
       "      <td>0.0</td>\n",
       "      <td>0.0</td>\n",
       "      <td>0.0</td>\n",
       "      <td>0.0</td>\n",
       "      <td>0.0</td>\n",
       "      <td>0.0</td>\n",
       "      <td>0.0</td>\n",
       "      <td>0.0</td>\n",
       "      <td>0.0</td>\n",
       "      <td>0.0</td>\n",
       "      <td>0.0</td>\n",
       "      <td>0.0</td>\n",
       "      <td>0.0</td>\n",
       "      <td>0.0</td>\n",
       "      <td>0.0</td>\n",
       "      <td>0.0</td>\n",
       "      <td>0.0</td>\n",
       "      <td>0.0</td>\n",
       "      <td>0.0</td>\n",
       "      <td>0.0</td>\n",
       "      <td>0.0</td>\n",
       "      <td>0.0</td>\n",
       "      <td>0.0</td>\n",
       "      <td>0.0</td>\n",
       "      <td>0.0</td>\n",
       "      <td>0.0</td>\n",
       "      <td>0.0</td>\n",
       "      <td>...</td>\n",
       "      <td>77.0</td>\n",
       "      <td>20.0</td>\n",
       "      <td>0.0</td>\n",
       "      <td>6.0</td>\n",
       "      <td>17.0</td>\n",
       "      <td>1.0</td>\n",
       "      <td>0.0</td>\n",
       "      <td>21.0</td>\n",
       "      <td>5.0</td>\n",
       "      <td>1.0</td>\n",
       "      <td>16.0</td>\n",
       "      <td>0.0</td>\n",
       "      <td>0.0</td>\n",
       "      <td>0.0</td>\n",
       "      <td>0.0</td>\n",
       "      <td>0.0</td>\n",
       "      <td>0.0</td>\n",
       "      <td>0.0</td>\n",
       "      <td>0.0</td>\n",
       "      <td>0.0</td>\n",
       "      <td>0.0</td>\n",
       "      <td>0.0</td>\n",
       "      <td>0.0</td>\n",
       "      <td>0.0</td>\n",
       "      <td>0.0</td>\n",
       "      <td>0.0</td>\n",
       "      <td>0.0</td>\n",
       "      <td>0.0</td>\n",
       "      <td>0.0</td>\n",
       "      <td>0.0</td>\n",
       "      <td>0.0</td>\n",
       "      <td>0.0</td>\n",
       "      <td>0.0</td>\n",
       "      <td>0.0</td>\n",
       "      <td>0.0</td>\n",
       "      <td>0.0</td>\n",
       "      <td>0.0</td>\n",
       "      <td>0.0</td>\n",
       "      <td>0.0</td>\n",
       "      <td>0.0</td>\n",
       "    </tr>\n",
       "    <tr>\n",
       "      <th>AAACATACGTCCTC-1</th>\n",
       "      <td>0.0</td>\n",
       "      <td>0.0</td>\n",
       "      <td>0.0</td>\n",
       "      <td>0.0</td>\n",
       "      <td>0.0</td>\n",
       "      <td>0.0</td>\n",
       "      <td>0.0</td>\n",
       "      <td>0.0</td>\n",
       "      <td>0.0</td>\n",
       "      <td>0.0</td>\n",
       "      <td>0.0</td>\n",
       "      <td>0.0</td>\n",
       "      <td>0.0</td>\n",
       "      <td>0.0</td>\n",
       "      <td>0.0</td>\n",
       "      <td>0.0</td>\n",
       "      <td>0.0</td>\n",
       "      <td>0.0</td>\n",
       "      <td>0.0</td>\n",
       "      <td>0.0</td>\n",
       "      <td>0.0</td>\n",
       "      <td>0.0</td>\n",
       "      <td>0.0</td>\n",
       "      <td>0.0</td>\n",
       "      <td>0.0</td>\n",
       "      <td>0.0</td>\n",
       "      <td>0.0</td>\n",
       "      <td>0.0</td>\n",
       "      <td>0.0</td>\n",
       "      <td>0.0</td>\n",
       "      <td>0.0</td>\n",
       "      <td>0.0</td>\n",
       "      <td>0.0</td>\n",
       "      <td>0.0</td>\n",
       "      <td>0.0</td>\n",
       "      <td>0.0</td>\n",
       "      <td>0.0</td>\n",
       "      <td>0.0</td>\n",
       "      <td>0.0</td>\n",
       "      <td>0.0</td>\n",
       "      <td>...</td>\n",
       "      <td>7.0</td>\n",
       "      <td>6.0</td>\n",
       "      <td>0.0</td>\n",
       "      <td>2.0</td>\n",
       "      <td>2.0</td>\n",
       "      <td>0.0</td>\n",
       "      <td>0.0</td>\n",
       "      <td>1.0</td>\n",
       "      <td>0.0</td>\n",
       "      <td>0.0</td>\n",
       "      <td>4.0</td>\n",
       "      <td>0.0</td>\n",
       "      <td>0.0</td>\n",
       "      <td>0.0</td>\n",
       "      <td>0.0</td>\n",
       "      <td>0.0</td>\n",
       "      <td>0.0</td>\n",
       "      <td>0.0</td>\n",
       "      <td>0.0</td>\n",
       "      <td>0.0</td>\n",
       "      <td>0.0</td>\n",
       "      <td>0.0</td>\n",
       "      <td>0.0</td>\n",
       "      <td>0.0</td>\n",
       "      <td>0.0</td>\n",
       "      <td>0.0</td>\n",
       "      <td>0.0</td>\n",
       "      <td>0.0</td>\n",
       "      <td>0.0</td>\n",
       "      <td>0.0</td>\n",
       "      <td>0.0</td>\n",
       "      <td>0.0</td>\n",
       "      <td>0.0</td>\n",
       "      <td>0.0</td>\n",
       "      <td>0.0</td>\n",
       "      <td>0.0</td>\n",
       "      <td>0.0</td>\n",
       "      <td>1.0</td>\n",
       "      <td>0.0</td>\n",
       "      <td>0.0</td>\n",
       "    </tr>\n",
       "    <tr>\n",
       "      <th>AAACATACTGGAAA-1</th>\n",
       "      <td>0.0</td>\n",
       "      <td>0.0</td>\n",
       "      <td>0.0</td>\n",
       "      <td>0.0</td>\n",
       "      <td>0.0</td>\n",
       "      <td>0.0</td>\n",
       "      <td>0.0</td>\n",
       "      <td>0.0</td>\n",
       "      <td>0.0</td>\n",
       "      <td>0.0</td>\n",
       "      <td>0.0</td>\n",
       "      <td>0.0</td>\n",
       "      <td>0.0</td>\n",
       "      <td>0.0</td>\n",
       "      <td>0.0</td>\n",
       "      <td>0.0</td>\n",
       "      <td>0.0</td>\n",
       "      <td>0.0</td>\n",
       "      <td>0.0</td>\n",
       "      <td>0.0</td>\n",
       "      <td>0.0</td>\n",
       "      <td>0.0</td>\n",
       "      <td>0.0</td>\n",
       "      <td>0.0</td>\n",
       "      <td>0.0</td>\n",
       "      <td>0.0</td>\n",
       "      <td>0.0</td>\n",
       "      <td>0.0</td>\n",
       "      <td>0.0</td>\n",
       "      <td>0.0</td>\n",
       "      <td>0.0</td>\n",
       "      <td>0.0</td>\n",
       "      <td>0.0</td>\n",
       "      <td>0.0</td>\n",
       "      <td>0.0</td>\n",
       "      <td>0.0</td>\n",
       "      <td>0.0</td>\n",
       "      <td>0.0</td>\n",
       "      <td>0.0</td>\n",
       "      <td>0.0</td>\n",
       "      <td>...</td>\n",
       "      <td>3.0</td>\n",
       "      <td>3.0</td>\n",
       "      <td>0.0</td>\n",
       "      <td>1.0</td>\n",
       "      <td>2.0</td>\n",
       "      <td>0.0</td>\n",
       "      <td>0.0</td>\n",
       "      <td>1.0</td>\n",
       "      <td>0.0</td>\n",
       "      <td>0.0</td>\n",
       "      <td>1.0</td>\n",
       "      <td>0.0</td>\n",
       "      <td>0.0</td>\n",
       "      <td>0.0</td>\n",
       "      <td>0.0</td>\n",
       "      <td>0.0</td>\n",
       "      <td>0.0</td>\n",
       "      <td>0.0</td>\n",
       "      <td>0.0</td>\n",
       "      <td>0.0</td>\n",
       "      <td>0.0</td>\n",
       "      <td>0.0</td>\n",
       "      <td>0.0</td>\n",
       "      <td>0.0</td>\n",
       "      <td>0.0</td>\n",
       "      <td>0.0</td>\n",
       "      <td>0.0</td>\n",
       "      <td>0.0</td>\n",
       "      <td>0.0</td>\n",
       "      <td>0.0</td>\n",
       "      <td>0.0</td>\n",
       "      <td>0.0</td>\n",
       "      <td>0.0</td>\n",
       "      <td>0.0</td>\n",
       "      <td>0.0</td>\n",
       "      <td>0.0</td>\n",
       "      <td>0.0</td>\n",
       "      <td>0.0</td>\n",
       "      <td>0.0</td>\n",
       "      <td>0.0</td>\n",
       "    </tr>\n",
       "  </tbody>\n",
       "</table>\n",
       "<p>5 rows × 33694 columns</p>\n",
       "</div>"
      ],
      "text/plain": [
       "                  RP11-34P13.3 (ENSG00000243485)  ...  FAM231B (ENSG00000268674)\n",
       "0                                                 ...                           \n",
       "AAACATACACCCAA-1                             0.0  ...                        0.0\n",
       "AAACATACCGAGTT-1                             0.0  ...                        0.0\n",
       "AAACATACGTAGCT-1                             0.0  ...                        0.0\n",
       "AAACATACGTCCTC-1                             0.0  ...                        0.0\n",
       "AAACATACTGGAAA-1                             0.0  ...                        0.0\n",
       "\n",
       "[5 rows x 33694 columns]"
      ]
     },
     "execution_count": 10,
     "metadata": {
      "tags": []
     },
     "output_type": "execute_result"
    }
   ],
   "source": [
    "sparse=True\n",
    "data_time1 = scprep.io.load_10X(os.path.join(download_path, \"scRNAseq\", \"T0_1A\"), sparse=sparse, gene_labels='both')\n",
    "print('Loaded data for time point 1.')\n",
    "data_time2 = scprep.io.load_10X(os.path.join(download_path, \"scRNAseq\", \"T2_3B\"), sparse=sparse, gene_labels='both')\n",
    "print('Loaded data for time point 2.')\n",
    "data_time3 = scprep.io.load_10X(os.path.join(download_path, \"scRNAseq\", \"T4_5C\"), sparse=sparse, gene_labels='both')\n",
    "print('Loaded data for time point 3.')\n",
    "data_time4 = scprep.io.load_10X(os.path.join(download_path, \"scRNAseq\", \"T6_7D\"), sparse=sparse, gene_labels='both')\n",
    "print('Loaded data for time point 4.')\n",
    "data_time5 = scprep.io.load_10X(os.path.join(download_path, \"scRNAseq\", \"T8_9E\"), sparse=sparse, gene_labels='both')\n",
    "print('Loaded data for time point 5.')\n",
    "data_time5.head()"
   ]
  },
  {
   "cell_type": "markdown",
   "metadata": {
    "id": "77XS07XVacXH"
   },
   "source": [
    "### 2.3. Library size filtering\n",
    "\n",
    "#### Why we filter cells by library size\n",
    "In scRNA-seq the library size of a cell is the number of unique mRNA molecules detected in that cell. These unique molecules are identified using a random barcode incorporated during the first round of reverse transcription. This barcode is called a <b>U</b>nique <b>M</b>olecule <b>I</b>dentifier, and often we refer to the number unique mRNAs in a cell as the number of UMIs. To read more about UMIs, [Smith *et al.* (2017)](https://www.ncbi.nlm.nih.gov/pmc/articles/PMC5340976/) write about how sequencing errors and PCR amplification errors lead to innaccurate quantification of UMIs/cell.\n",
    "\n",
    "Depending on the method of scRNA-seq, the amount of library size filtering done can vary. The 10X Genomics CellRanger tool, the DropSeq and InDrops pipelines, and the Umitools package each have their own method and cutoff for determining real cells from empty droplets. Additional methods exist for trying to detect the difference between droplets containing one cell and droplets containing two cells (\"doublets\"). You can take these methods at face value or set some manual cutoffs based on your data.\n",
    "\n",
    "#### Visualing the library size distribution using `scprep`\n",
    "\n",
    "There is a helper function for plotting library size from a gene expression matrix in scprep called [`scprep.plot.plot_library_size()`](https://scprep.readthedocs.io/en/stable/reference.html#scprep.plot.plot_library_size).\n",
    "\n",
    "Let's have a look at the library size for the first time point. In this sample we see that there is a small number of cells with very small library sizes and a long tail of cells that have very high library sizes."
   ]
  },
  {
   "cell_type": "code",
   "execution_count": 11,
   "metadata": {
    "colab": {
     "base_uri": "https://localhost:8080/",
     "height": 314
    },
    "id": "lg6jXB-IacXI",
    "outputId": "839b7eea-a35a-48fd-a00b-b090699bb439",
    "scrolled": true
   },
   "outputs": [
    {
     "data": {
      "text/plain": [
       "<matplotlib.axes._subplots.AxesSubplot at 0x7f971a2c7b90>"
      ]
     },
     "execution_count": 11,
     "metadata": {
      "tags": []
     },
     "output_type": "execute_result"
    },
    {
     "data": {
      "image/png": "[encoded data removed]",
      "text/plain": [
       "<Figure size 432x288 with 1 Axes>"
      ]
     },
     "metadata": {
      "needs_background": "light",
      "tags": []
     },
     "output_type": "display_data"
    }
   ],
   "source": [
    "scprep.plot.plot_library_size(data_time1,\n",
    "                              log=False, title='Library Size Before Filtering')"
   ]
  },
  {
   "cell_type": "markdown",
   "metadata": {
    "id": "z1-2PVSCPK84"
   },
   "source": [
    "Choose cutoffs above and below the main bulk of cells, removing cells that are both significantly smaller than average and significantly larger than average. You can plot the result by running `scprep.plot.plot_library_size` with `cutoff=(low, high)` or `percentile=(low, high)` where low and high are values or percentiles that you choose."
   ]
  },
  {
   "cell_type": "code",
   "execution_count": 12,
   "metadata": {
    "colab": {
     "base_uri": "https://localhost:8080/",
     "height": 368
    },
    "id": "QTWtoE_TPK84",
    "outputId": "f40d9f53-66b6-401b-a5dc-82877fa93ada"
   },
   "outputs": [
    {
     "name": "stderr",
     "output_type": "stream",
     "text": [
      "/usr/local/lib/python3.7/dist-packages/scprep/plot/histogram.py:164: MatplotlibDeprecationWarning: SymmetricalLogScale got an unexpected keyword argument 'linthresh'. In the future this will raise TypeError\n",
      "  ax.set_xscale(\"symlog\", linthresh=abs_min)\n"
     ]
    },
    {
     "data": {
      "text/plain": [
       "<matplotlib.axes._subplots.AxesSubplot at 0x7f971a23fed0>"
      ]
     },
     "execution_count": 12,
     "metadata": {
      "tags": []
     },
     "output_type": "execute_result"
    },
    {
     "data": {
      "image/png": "[encoded data removed]",
      "text/plain": [
       "<Figure size 432x288 with 1 Axes>"
      ]
     },
     "metadata": {
      "needs_background": "light",
      "tags": []
     },
     "output_type": "display_data"
    }
   ],
   "source": [
    "# =============\n",
    "# Select appropriate percentiles (percentile=(low, high))\n",
    "# for filtering and plot the result\n",
    "scprep.plot.plot_library_size(data_time1, percentile=(20, 80))\n",
    "# ============="
   ]
  },
  {
   "cell_type": "markdown",
   "metadata": {
    "id": "YG4_xhXt7RQb"
   },
   "source": [
    "#### Selecting a cutoff\n",
    "\n",
    "Several papers describe strategies for picking a maximum and minimum threshold that can be found with a quick Google search for \"library size threshold single cell RNA seq\".\n",
    "\n",
    "Most of these pick an arbitrary measure such as a certain number of deviations below or above the mean or median library size. We find that spending too much time worrying about the exact threshold is inefficient, as results tend to be robust to filtering beyond some minimum threshold.\n",
    "\n",
    "For the above dataset, we recommend removing all cells with more than 12,000 UMI / cell in fear they might represent doublets of cells. We generally also remove all cells with fewer than 1000 UMIs per cell.\n",
    "\n",
    "### Exercise 1 - Filtering cells by library size\n",
    "\n",
    "You can do this using [`scprep.filter.filter_library_size()`](https://scprep.readthedocs.io/en/stable/reference.html#scprep.filter.filter_library_size)."
   ]
  },
  {
   "cell_type": "code",
   "execution_count": 13,
   "metadata": {
    "id": "o_ucsSK9acXO"
   },
   "outputs": [],
   "source": [
    "filtered_batches = []\n",
    "for batch in [data_time1, data_time2, data_time3, data_time4, data_time5]:\n",
    "    # ==================\n",
    "    # fill in your chosen `percentile` values\n",
    "    percentiles = (20, 80)\n",
    "    batch = scprep.filter.filter_library_size(batch, percentile=percentiles)\n",
    "    # ==================\n",
    "    filtered_batches.append(batch)\n",
    "  \n",
    "del data_time1, data_time2, data_time3, data_time4, data_time5 # removes objects from memory"
   ]
  },
  {
   "cell_type": "markdown",
   "metadata": {
    "id": "j2DYuIMfPK84"
   },
   "source": [
    "**Note:** If you are going to use `percentile` filter, you need to do the filtering individually for each sample.  If you are going to do filtering using hard numbers like _remove all cells with more than 12000 UMI/cell,_ you can do it for all the data together."
   ]
  },
  {
   "cell_type": "code",
   "execution_count": 14,
   "metadata": {
    "colab": {
     "base_uri": "https://localhost:8080/",
     "height": 314
    },
    "id": "w9GKIljH4S05",
    "outputId": "323137e8-06c4-4de1-c793-f81822752b1a"
   },
   "outputs": [
    {
     "data": {
      "text/plain": [
       "<matplotlib.axes._subplots.AxesSubplot at 0x7f96f8431650>"
      ]
     },
     "execution_count": 14,
     "metadata": {
      "tags": []
     },
     "output_type": "execute_result"
    },
    {
     "data": {
      "image/png": "[encoded data removed]",
      "text/plain": [
       "<Figure size 432x288 with 1 Axes>"
      ]
     },
     "metadata": {
      "needs_background": "light",
      "tags": []
     },
     "output_type": "display_data"
    }
   ],
   "source": [
    "scprep.plot.plot_library_size(filtered_batches[0], log=False, range=(0,30000),\n",
    "                              title='Library size after filtering')"
   ]
  },
  {
   "cell_type": "markdown",
   "metadata": {
    "id": "zUAl9RXVPK85"
   },
   "source": [
    "The library size distribution is now much more constrained, which will reduce the effects of differences in library size (which can affect your results, even after normalization)."
   ]
  },
  {
   "cell_type": "markdown",
   "metadata": {
    "id": "JQoJnFVxacXW"
   },
   "source": [
    "### 2.4. Merge all datasets and create a vector representing the time point of each sample\n",
    "\n",
    "Now that we have filtered the datasets by library size, we can combine them into a single matrix. You can do this with [`scprep.utils.combine_batches()`](https://scprep.readthedocs.io/en/stable/reference.html#scprep.utils.combine_batches)."
   ]
  },
  {
   "cell_type": "code",
   "execution_count": 15,
   "metadata": {
    "colab": {
     "base_uri": "https://localhost:8080/"
    },
    "id": "FJdO1NcKacXX",
    "outputId": "98fd1f81-2503-48c2-ecd1-789dcb3585d7"
   },
   "outputs": [
    {
     "data": {
      "text/plain": [
       "(18691, 33694)"
      ]
     },
     "execution_count": 15,
     "metadata": {
      "tags": []
     },
     "output_type": "execute_result"
    }
   ],
   "source": [
    "data, sample_labels = scprep.utils.combine_batches(\n",
    "    filtered_batches, \n",
    "    [\"Day 00-03\", \"Day 06-09\", \"Day 12-15\", \"Day 18-21\", \"Day 24-27\"]\n",
    ")\n",
    "del filtered_batches # removes objects from memory\n",
    "data.shape"
   ]
  },
  {
   "cell_type": "markdown",
   "metadata": {
    "id": "eJKkQvbgPK85"
   },
   "source": [
    "After combining batches, we have ~25,000 cells and 33,700 genes. Let's have a quick look at the combined matrix."
   ]
  },
  {
   "cell_type": "code",
   "execution_count": 16,
   "metadata": {
    "colab": {
     "base_uri": "https://localhost:8080/",
     "height": 355
    },
    "id": "gYkkIggmPK86",
    "outputId": "fdd44baf-ec31-41ec-d63d-7f6553f1db22"
   },
   "outputs": [
    {
     "data": {
      "text/html": [
       "<div>\n",
       "<style scoped>\n",
       "    .dataframe tbody tr th:only-of-type {\n",
       "        vertical-align: middle;\n",
       "    }\n",
       "\n",
       "    .dataframe tbody tr th {\n",
       "        vertical-align: top;\n",
       "    }\n",
       "\n",
       "    .dataframe thead th {\n",
       "        text-align: right;\n",
       "    }\n",
       "</style>\n",
       "<table border=\"1\" class=\"dataframe\">\n",
       "  <thead>\n",
       "    <tr style=\"text-align: right;\">\n",
       "      <th></th>\n",
       "      <th>A1BG (ENSG00000121410)</th>\n",
       "      <th>A1BG-AS1 (ENSG00000268895)</th>\n",
       "      <th>A1CF (ENSG00000148584)</th>\n",
       "      <th>A2M (ENSG00000175899)</th>\n",
       "      <th>A2M-AS1 (ENSG00000245105)</th>\n",
       "      <th>A2ML1 (ENSG00000166535)</th>\n",
       "      <th>A2ML1-AS1 (ENSG00000256661)</th>\n",
       "      <th>A2ML1-AS2 (ENSG00000256904)</th>\n",
       "      <th>A3GALT2 (ENSG00000184389)</th>\n",
       "      <th>A4GALT (ENSG00000128274)</th>\n",
       "      <th>A4GNT (ENSG00000118017)</th>\n",
       "      <th>AAAS (ENSG00000094914)</th>\n",
       "      <th>AACS (ENSG00000081760)</th>\n",
       "      <th>AADAC (ENSG00000114771)</th>\n",
       "      <th>AADACL2 (ENSG00000197953)</th>\n",
       "      <th>AADACL2-AS1 (ENSG00000242908)</th>\n",
       "      <th>AADACL3 (ENSG00000188984)</th>\n",
       "      <th>AADACL4 (ENSG00000204518)</th>\n",
       "      <th>AADAT (ENSG00000109576)</th>\n",
       "      <th>AAED1 (ENSG00000158122)</th>\n",
       "      <th>AAGAB (ENSG00000103591)</th>\n",
       "      <th>AAK1 (ENSG00000115977)</th>\n",
       "      <th>AAMDC (ENSG00000087884)</th>\n",
       "      <th>AAMP (ENSG00000127837)</th>\n",
       "      <th>AANAT (ENSG00000129673)</th>\n",
       "      <th>AAR2 (ENSG00000131043)</th>\n",
       "      <th>AARD (ENSG00000205002)</th>\n",
       "      <th>AARS (ENSG00000090861)</th>\n",
       "      <th>AARS2 (ENSG00000124608)</th>\n",
       "      <th>AARSD1 (ENSG00000266967)</th>\n",
       "      <th>AASDH (ENSG00000157426)</th>\n",
       "      <th>AASDHPPT (ENSG00000149313)</th>\n",
       "      <th>AASS (ENSG00000008311)</th>\n",
       "      <th>AATBC (ENSG00000215458)</th>\n",
       "      <th>AATF (ENSG00000275700)</th>\n",
       "      <th>AATK (ENSG00000181409)</th>\n",
       "      <th>AATK-AS1 (ENSG00000225180)</th>\n",
       "      <th>AB015752.3 (ENSG00000254180)</th>\n",
       "      <th>AB019440.50 (ENSG00000271201)</th>\n",
       "      <th>ABALON (ENSG00000281376)</th>\n",
       "      <th>...</th>\n",
       "      <th>ZSCAN20 (ENSG00000121903)</th>\n",
       "      <th>ZSCAN21 (ENSG00000166529)</th>\n",
       "      <th>ZSCAN22 (ENSG00000182318)</th>\n",
       "      <th>ZSCAN23 (ENSG00000187987)</th>\n",
       "      <th>ZSCAN25 (ENSG00000197037)</th>\n",
       "      <th>ZSCAN26 (ENSG00000197062)</th>\n",
       "      <th>ZSCAN29 (ENSG00000140265)</th>\n",
       "      <th>ZSCAN30 (ENSG00000186814)</th>\n",
       "      <th>ZSCAN31 (ENSG00000235109)</th>\n",
       "      <th>ZSCAN32 (ENSG00000140987)</th>\n",
       "      <th>ZSCAN4 (ENSG00000180532)</th>\n",
       "      <th>ZSCAN5A (ENSG00000131848)</th>\n",
       "      <th>ZSCAN5B (ENSG00000197213)</th>\n",
       "      <th>ZSCAN5CP (ENSG00000204532)</th>\n",
       "      <th>ZSCAN9 (ENSG00000137185)</th>\n",
       "      <th>ZSWIM1 (ENSG00000168612)</th>\n",
       "      <th>ZSWIM2 (ENSG00000163012)</th>\n",
       "      <th>ZSWIM3 (ENSG00000132801)</th>\n",
       "      <th>ZSWIM4 (ENSG00000132003)</th>\n",
       "      <th>ZSWIM5 (ENSG00000162415)</th>\n",
       "      <th>ZSWIM6 (ENSG00000130449)</th>\n",
       "      <th>ZSWIM7 (ENSG00000214941)</th>\n",
       "      <th>ZSWIM8 (ENSG00000214655)</th>\n",
       "      <th>ZSWIM8-AS1 (ENSG00000272589)</th>\n",
       "      <th>ZUFSP (ENSG00000153975)</th>\n",
       "      <th>ZW10 (ENSG00000086827)</th>\n",
       "      <th>ZWILCH (ENSG00000174442)</th>\n",
       "      <th>ZWINT (ENSG00000122952)</th>\n",
       "      <th>ZXDA (ENSG00000198205)</th>\n",
       "      <th>ZXDB (ENSG00000198455)</th>\n",
       "      <th>ZXDC (ENSG00000070476)</th>\n",
       "      <th>ZYG11A (ENSG00000203995)</th>\n",
       "      <th>ZYG11B (ENSG00000162378)</th>\n",
       "      <th>ZYX (ENSG00000159840)</th>\n",
       "      <th>ZZEF1 (ENSG00000074755)</th>\n",
       "      <th>ZZZ3 (ENSG00000036549)</th>\n",
       "      <th>bP-21264C1.2 (ENSG00000278932)</th>\n",
       "      <th>bP-2171C21.3 (ENSG00000279501)</th>\n",
       "      <th>bP-2189O9.3 (ENSG00000279579)</th>\n",
       "      <th>hsa-mir-1253 (ENSG00000272920)</th>\n",
       "    </tr>\n",
       "  </thead>\n",
       "  <tbody>\n",
       "    <tr>\n",
       "      <th>AAACATTGAAAGCA-1_Day 00-03</th>\n",
       "      <td>0.0</td>\n",
       "      <td>0.0</td>\n",
       "      <td>0.0</td>\n",
       "      <td>0.0</td>\n",
       "      <td>0.0</td>\n",
       "      <td>0.0</td>\n",
       "      <td>0.0</td>\n",
       "      <td>0.0</td>\n",
       "      <td>0.0</td>\n",
       "      <td>0.0</td>\n",
       "      <td>0.0</td>\n",
       "      <td>0.0</td>\n",
       "      <td>0.0</td>\n",
       "      <td>0.0</td>\n",
       "      <td>0.0</td>\n",
       "      <td>0.0</td>\n",
       "      <td>0.0</td>\n",
       "      <td>0.0</td>\n",
       "      <td>0.0</td>\n",
       "      <td>0.0</td>\n",
       "      <td>0.0</td>\n",
       "      <td>0.0</td>\n",
       "      <td>0.0</td>\n",
       "      <td>0.0</td>\n",
       "      <td>0.0</td>\n",
       "      <td>0.0</td>\n",
       "      <td>0.0</td>\n",
       "      <td>0.0</td>\n",
       "      <td>0.0</td>\n",
       "      <td>0.0</td>\n",
       "      <td>0.0</td>\n",
       "      <td>0.0</td>\n",
       "      <td>0.0</td>\n",
       "      <td>0.0</td>\n",
       "      <td>0.0</td>\n",
       "      <td>0.0</td>\n",
       "      <td>0.0</td>\n",
       "      <td>0.0</td>\n",
       "      <td>0.0</td>\n",
       "      <td>0.0</td>\n",
       "      <td>...</td>\n",
       "      <td>0.0</td>\n",
       "      <td>0.0</td>\n",
       "      <td>0.0</td>\n",
       "      <td>0.0</td>\n",
       "      <td>0.0</td>\n",
       "      <td>0.0</td>\n",
       "      <td>0.0</td>\n",
       "      <td>0.0</td>\n",
       "      <td>0.0</td>\n",
       "      <td>0.0</td>\n",
       "      <td>0.0</td>\n",
       "      <td>0.0</td>\n",
       "      <td>0.0</td>\n",
       "      <td>0.0</td>\n",
       "      <td>0.0</td>\n",
       "      <td>0.0</td>\n",
       "      <td>0.0</td>\n",
       "      <td>0.0</td>\n",
       "      <td>0.0</td>\n",
       "      <td>0.0</td>\n",
       "      <td>0.0</td>\n",
       "      <td>0.0</td>\n",
       "      <td>0.0</td>\n",
       "      <td>0.0</td>\n",
       "      <td>0.0</td>\n",
       "      <td>0.0</td>\n",
       "      <td>0.0</td>\n",
       "      <td>2.0</td>\n",
       "      <td>0.0</td>\n",
       "      <td>0.0</td>\n",
       "      <td>0.0</td>\n",
       "      <td>0.0</td>\n",
       "      <td>0.0</td>\n",
       "      <td>0.0</td>\n",
       "      <td>0.0</td>\n",
       "      <td>0.0</td>\n",
       "      <td>0.0</td>\n",
       "      <td>0.0</td>\n",
       "      <td>0.0</td>\n",
       "      <td>0.0</td>\n",
       "    </tr>\n",
       "    <tr>\n",
       "      <th>AAACCGTGCAGAAA-1_Day 00-03</th>\n",
       "      <td>0.0</td>\n",
       "      <td>0.0</td>\n",
       "      <td>0.0</td>\n",
       "      <td>0.0</td>\n",
       "      <td>0.0</td>\n",
       "      <td>0.0</td>\n",
       "      <td>0.0</td>\n",
       "      <td>0.0</td>\n",
       "      <td>0.0</td>\n",
       "      <td>0.0</td>\n",
       "      <td>0.0</td>\n",
       "      <td>0.0</td>\n",
       "      <td>0.0</td>\n",
       "      <td>0.0</td>\n",
       "      <td>0.0</td>\n",
       "      <td>0.0</td>\n",
       "      <td>0.0</td>\n",
       "      <td>0.0</td>\n",
       "      <td>0.0</td>\n",
       "      <td>0.0</td>\n",
       "      <td>0.0</td>\n",
       "      <td>0.0</td>\n",
       "      <td>0.0</td>\n",
       "      <td>2.0</td>\n",
       "      <td>0.0</td>\n",
       "      <td>0.0</td>\n",
       "      <td>0.0</td>\n",
       "      <td>0.0</td>\n",
       "      <td>0.0</td>\n",
       "      <td>0.0</td>\n",
       "      <td>0.0</td>\n",
       "      <td>0.0</td>\n",
       "      <td>0.0</td>\n",
       "      <td>0.0</td>\n",
       "      <td>0.0</td>\n",
       "      <td>0.0</td>\n",
       "      <td>0.0</td>\n",
       "      <td>0.0</td>\n",
       "      <td>0.0</td>\n",
       "      <td>0.0</td>\n",
       "      <td>...</td>\n",
       "      <td>0.0</td>\n",
       "      <td>0.0</td>\n",
       "      <td>0.0</td>\n",
       "      <td>0.0</td>\n",
       "      <td>0.0</td>\n",
       "      <td>0.0</td>\n",
       "      <td>0.0</td>\n",
       "      <td>0.0</td>\n",
       "      <td>0.0</td>\n",
       "      <td>0.0</td>\n",
       "      <td>0.0</td>\n",
       "      <td>0.0</td>\n",
       "      <td>0.0</td>\n",
       "      <td>0.0</td>\n",
       "      <td>0.0</td>\n",
       "      <td>0.0</td>\n",
       "      <td>0.0</td>\n",
       "      <td>0.0</td>\n",
       "      <td>0.0</td>\n",
       "      <td>0.0</td>\n",
       "      <td>0.0</td>\n",
       "      <td>0.0</td>\n",
       "      <td>0.0</td>\n",
       "      <td>0.0</td>\n",
       "      <td>0.0</td>\n",
       "      <td>0.0</td>\n",
       "      <td>0.0</td>\n",
       "      <td>0.0</td>\n",
       "      <td>0.0</td>\n",
       "      <td>0.0</td>\n",
       "      <td>0.0</td>\n",
       "      <td>0.0</td>\n",
       "      <td>0.0</td>\n",
       "      <td>0.0</td>\n",
       "      <td>0.0</td>\n",
       "      <td>0.0</td>\n",
       "      <td>0.0</td>\n",
       "      <td>0.0</td>\n",
       "      <td>0.0</td>\n",
       "      <td>0.0</td>\n",
       "    </tr>\n",
       "    <tr>\n",
       "      <th>AAACCGTGGAAGGC-1_Day 00-03</th>\n",
       "      <td>0.0</td>\n",
       "      <td>0.0</td>\n",
       "      <td>0.0</td>\n",
       "      <td>0.0</td>\n",
       "      <td>0.0</td>\n",
       "      <td>0.0</td>\n",
       "      <td>0.0</td>\n",
       "      <td>0.0</td>\n",
       "      <td>0.0</td>\n",
       "      <td>0.0</td>\n",
       "      <td>0.0</td>\n",
       "      <td>0.0</td>\n",
       "      <td>1.0</td>\n",
       "      <td>0.0</td>\n",
       "      <td>0.0</td>\n",
       "      <td>0.0</td>\n",
       "      <td>0.0</td>\n",
       "      <td>0.0</td>\n",
       "      <td>0.0</td>\n",
       "      <td>0.0</td>\n",
       "      <td>0.0</td>\n",
       "      <td>0.0</td>\n",
       "      <td>1.0</td>\n",
       "      <td>0.0</td>\n",
       "      <td>0.0</td>\n",
       "      <td>0.0</td>\n",
       "      <td>0.0</td>\n",
       "      <td>0.0</td>\n",
       "      <td>0.0</td>\n",
       "      <td>0.0</td>\n",
       "      <td>0.0</td>\n",
       "      <td>0.0</td>\n",
       "      <td>0.0</td>\n",
       "      <td>0.0</td>\n",
       "      <td>0.0</td>\n",
       "      <td>0.0</td>\n",
       "      <td>0.0</td>\n",
       "      <td>0.0</td>\n",
       "      <td>0.0</td>\n",
       "      <td>0.0</td>\n",
       "      <td>...</td>\n",
       "      <td>0.0</td>\n",
       "      <td>0.0</td>\n",
       "      <td>0.0</td>\n",
       "      <td>0.0</td>\n",
       "      <td>0.0</td>\n",
       "      <td>0.0</td>\n",
       "      <td>0.0</td>\n",
       "      <td>0.0</td>\n",
       "      <td>0.0</td>\n",
       "      <td>1.0</td>\n",
       "      <td>0.0</td>\n",
       "      <td>0.0</td>\n",
       "      <td>0.0</td>\n",
       "      <td>0.0</td>\n",
       "      <td>0.0</td>\n",
       "      <td>0.0</td>\n",
       "      <td>0.0</td>\n",
       "      <td>0.0</td>\n",
       "      <td>0.0</td>\n",
       "      <td>0.0</td>\n",
       "      <td>0.0</td>\n",
       "      <td>0.0</td>\n",
       "      <td>0.0</td>\n",
       "      <td>0.0</td>\n",
       "      <td>0.0</td>\n",
       "      <td>0.0</td>\n",
       "      <td>0.0</td>\n",
       "      <td>1.0</td>\n",
       "      <td>0.0</td>\n",
       "      <td>0.0</td>\n",
       "      <td>0.0</td>\n",
       "      <td>0.0</td>\n",
       "      <td>0.0</td>\n",
       "      <td>0.0</td>\n",
       "      <td>0.0</td>\n",
       "      <td>0.0</td>\n",
       "      <td>0.0</td>\n",
       "      <td>0.0</td>\n",
       "      <td>0.0</td>\n",
       "      <td>0.0</td>\n",
       "    </tr>\n",
       "    <tr>\n",
       "      <th>AAACGCACCGGTAT-1_Day 00-03</th>\n",
       "      <td>0.0</td>\n",
       "      <td>0.0</td>\n",
       "      <td>0.0</td>\n",
       "      <td>0.0</td>\n",
       "      <td>0.0</td>\n",
       "      <td>0.0</td>\n",
       "      <td>0.0</td>\n",
       "      <td>0.0</td>\n",
       "      <td>0.0</td>\n",
       "      <td>0.0</td>\n",
       "      <td>0.0</td>\n",
       "      <td>0.0</td>\n",
       "      <td>0.0</td>\n",
       "      <td>0.0</td>\n",
       "      <td>0.0</td>\n",
       "      <td>0.0</td>\n",
       "      <td>0.0</td>\n",
       "      <td>0.0</td>\n",
       "      <td>0.0</td>\n",
       "      <td>0.0</td>\n",
       "      <td>0.0</td>\n",
       "      <td>0.0</td>\n",
       "      <td>0.0</td>\n",
       "      <td>0.0</td>\n",
       "      <td>0.0</td>\n",
       "      <td>0.0</td>\n",
       "      <td>0.0</td>\n",
       "      <td>2.0</td>\n",
       "      <td>0.0</td>\n",
       "      <td>0.0</td>\n",
       "      <td>1.0</td>\n",
       "      <td>0.0</td>\n",
       "      <td>1.0</td>\n",
       "      <td>0.0</td>\n",
       "      <td>1.0</td>\n",
       "      <td>0.0</td>\n",
       "      <td>0.0</td>\n",
       "      <td>0.0</td>\n",
       "      <td>0.0</td>\n",
       "      <td>0.0</td>\n",
       "      <td>...</td>\n",
       "      <td>0.0</td>\n",
       "      <td>0.0</td>\n",
       "      <td>0.0</td>\n",
       "      <td>0.0</td>\n",
       "      <td>0.0</td>\n",
       "      <td>0.0</td>\n",
       "      <td>0.0</td>\n",
       "      <td>0.0</td>\n",
       "      <td>0.0</td>\n",
       "      <td>0.0</td>\n",
       "      <td>0.0</td>\n",
       "      <td>0.0</td>\n",
       "      <td>0.0</td>\n",
       "      <td>0.0</td>\n",
       "      <td>0.0</td>\n",
       "      <td>0.0</td>\n",
       "      <td>0.0</td>\n",
       "      <td>0.0</td>\n",
       "      <td>0.0</td>\n",
       "      <td>1.0</td>\n",
       "      <td>0.0</td>\n",
       "      <td>1.0</td>\n",
       "      <td>0.0</td>\n",
       "      <td>0.0</td>\n",
       "      <td>0.0</td>\n",
       "      <td>0.0</td>\n",
       "      <td>1.0</td>\n",
       "      <td>0.0</td>\n",
       "      <td>0.0</td>\n",
       "      <td>0.0</td>\n",
       "      <td>0.0</td>\n",
       "      <td>0.0</td>\n",
       "      <td>0.0</td>\n",
       "      <td>0.0</td>\n",
       "      <td>0.0</td>\n",
       "      <td>0.0</td>\n",
       "      <td>0.0</td>\n",
       "      <td>0.0</td>\n",
       "      <td>0.0</td>\n",
       "      <td>0.0</td>\n",
       "    </tr>\n",
       "    <tr>\n",
       "      <th>AAACGCACCTATTC-1_Day 00-03</th>\n",
       "      <td>0.0</td>\n",
       "      <td>0.0</td>\n",
       "      <td>0.0</td>\n",
       "      <td>0.0</td>\n",
       "      <td>0.0</td>\n",
       "      <td>0.0</td>\n",
       "      <td>0.0</td>\n",
       "      <td>0.0</td>\n",
       "      <td>0.0</td>\n",
       "      <td>0.0</td>\n",
       "      <td>0.0</td>\n",
       "      <td>0.0</td>\n",
       "      <td>0.0</td>\n",
       "      <td>0.0</td>\n",
       "      <td>0.0</td>\n",
       "      <td>0.0</td>\n",
       "      <td>0.0</td>\n",
       "      <td>0.0</td>\n",
       "      <td>0.0</td>\n",
       "      <td>0.0</td>\n",
       "      <td>0.0</td>\n",
       "      <td>0.0</td>\n",
       "      <td>0.0</td>\n",
       "      <td>0.0</td>\n",
       "      <td>0.0</td>\n",
       "      <td>0.0</td>\n",
       "      <td>0.0</td>\n",
       "      <td>0.0</td>\n",
       "      <td>0.0</td>\n",
       "      <td>0.0</td>\n",
       "      <td>0.0</td>\n",
       "      <td>0.0</td>\n",
       "      <td>0.0</td>\n",
       "      <td>0.0</td>\n",
       "      <td>0.0</td>\n",
       "      <td>0.0</td>\n",
       "      <td>0.0</td>\n",
       "      <td>0.0</td>\n",
       "      <td>0.0</td>\n",
       "      <td>0.0</td>\n",
       "      <td>...</td>\n",
       "      <td>0.0</td>\n",
       "      <td>0.0</td>\n",
       "      <td>0.0</td>\n",
       "      <td>0.0</td>\n",
       "      <td>0.0</td>\n",
       "      <td>0.0</td>\n",
       "      <td>0.0</td>\n",
       "      <td>0.0</td>\n",
       "      <td>0.0</td>\n",
       "      <td>0.0</td>\n",
       "      <td>0.0</td>\n",
       "      <td>0.0</td>\n",
       "      <td>0.0</td>\n",
       "      <td>0.0</td>\n",
       "      <td>0.0</td>\n",
       "      <td>0.0</td>\n",
       "      <td>0.0</td>\n",
       "      <td>0.0</td>\n",
       "      <td>0.0</td>\n",
       "      <td>0.0</td>\n",
       "      <td>0.0</td>\n",
       "      <td>0.0</td>\n",
       "      <td>0.0</td>\n",
       "      <td>0.0</td>\n",
       "      <td>0.0</td>\n",
       "      <td>0.0</td>\n",
       "      <td>0.0</td>\n",
       "      <td>1.0</td>\n",
       "      <td>0.0</td>\n",
       "      <td>0.0</td>\n",
       "      <td>0.0</td>\n",
       "      <td>0.0</td>\n",
       "      <td>0.0</td>\n",
       "      <td>1.0</td>\n",
       "      <td>0.0</td>\n",
       "      <td>0.0</td>\n",
       "      <td>0.0</td>\n",
       "      <td>0.0</td>\n",
       "      <td>0.0</td>\n",
       "      <td>0.0</td>\n",
       "    </tr>\n",
       "  </tbody>\n",
       "</table>\n",
       "<p>5 rows × 33694 columns</p>\n",
       "</div>"
      ],
      "text/plain": [
       "                            A1BG (ENSG00000121410)  ...  hsa-mir-1253 (ENSG00000272920)\n",
       "AAACATTGAAAGCA-1_Day 00-03                     0.0  ...                             0.0\n",
       "AAACCGTGCAGAAA-1_Day 00-03                     0.0  ...                             0.0\n",
       "AAACCGTGGAAGGC-1_Day 00-03                     0.0  ...                             0.0\n",
       "AAACGCACCGGTAT-1_Day 00-03                     0.0  ...                             0.0\n",
       "AAACGCACCTATTC-1_Day 00-03                     0.0  ...                             0.0\n",
       "\n",
       "[5 rows x 33694 columns]"
      ]
     },
     "execution_count": 16,
     "metadata": {
      "tags": []
     },
     "output_type": "execute_result"
    }
   ],
   "source": [
    "data.head()"
   ]
  },
  {
   "cell_type": "markdown",
   "metadata": {
    "id": "av4TCjF6PK86"
   },
   "source": [
    "Now we have one matrix containing all five time points of the experiment, and a vector (`sample_labels`) telling us which cells (rows) came from which time point. As you can see, the time point is also appended to the cell barcode."
   ]
  },
  {
   "cell_type": "code",
   "execution_count": 17,
   "metadata": {
    "colab": {
     "base_uri": "https://localhost:8080/"
    },
    "id": "kKbxzZPYPK86",
    "outputId": "a46f16ca-ae3c-4df1-c412-324242983341"
   },
   "outputs": [
    {
     "data": {
      "text/plain": [
       "AAACATTGAAAGCA-1_Day 00-03    Day 00-03\n",
       "AAACCGTGCAGAAA-1_Day 00-03    Day 00-03\n",
       "AAACCGTGGAAGGC-1_Day 00-03    Day 00-03\n",
       "AAACGCACCGGTAT-1_Day 00-03    Day 00-03\n",
       "AAACGCACCTATTC-1_Day 00-03    Day 00-03\n",
       "                                ...    \n",
       "TTTCTACTCTTATC-1_Day 24-27    Day 24-27\n",
       "TTTCTACTTGAGCT-1_Day 24-27    Day 24-27\n",
       "TTTGCATGATGACC-1_Day 24-27    Day 24-27\n",
       "TTTGCATGCACTCC-1_Day 24-27    Day 24-27\n",
       "TTTGCATGTTCTTG-1_Day 24-27    Day 24-27\n",
       "Name: sample_labels, Length: 18691, dtype: object"
      ]
     },
     "execution_count": 17,
     "metadata": {
      "tags": []
     },
     "output_type": "execute_result"
    }
   ],
   "source": [
    "sample_labels"
   ]
  },
  {
   "cell_type": "markdown",
   "metadata": {
    "id": "mLH00LwdPK86"
   },
   "source": [
    "Finally, because the Google Colab client is not the most powerful client, we'll subsample this dataset to allow you to run the preprocessing steps a little more quickly."
   ]
  },
  {
   "cell_type": "code",
   "execution_count": 18,
   "metadata": {
    "id": "2eA6edD4PK86"
   },
   "outputs": [],
   "source": [
    "data, sample_labels = scprep.select.subsample(data, sample_labels, n=10000)"
   ]
  },
  {
   "cell_type": "code",
   "execution_count": 19,
   "metadata": {
    "colab": {
     "base_uri": "https://localhost:8080/"
    },
    "id": "nT9Hc8zgPK86",
    "outputId": "d7c11106-31ef-468c-c22a-f4e187996b39"
   },
   "outputs": [
    {
     "data": {
      "text/plain": [
       "((10000, 33694), (10000,))"
      ]
     },
     "execution_count": 19,
     "metadata": {
      "tags": []
     },
     "output_type": "execute_result"
    }
   ],
   "source": [
    "data.shape, sample_labels.shape"
   ]
  },
  {
   "cell_type": "markdown",
   "metadata": {
    "id": "w0eU3P3oPK86"
   },
   "source": [
    "#### Batch effects\n",
    "\n",
    "It's worth noting here that we have combined five different experiments into one data matrix here, and in doing so potentially exposed ourself to a \"batch effect\". A batch effect is a difference (technical or biological) between two batches of an experiment. This can be caused by systematic error (e.g. a difference in temperature during library preparation) or a genuine biological effect of interest (e.g. in this case each batch is sampled at a different time of development.)\n",
    "\n",
    "Correcting for technical / systematic batch effects is a topic unto itself; however it's worth noting that any time we combine multiple experiments, we should check to see if they are substantially different and compare this to our expectations. If the effect is large and unexpected, we can either a) attempt to correct it / account for it using computational methods, or b) modify our analysis to avoid combining the datasets."
   ]
  },
  {
   "cell_type": "markdown",
   "metadata": {
    "id": "I41-iQqIPK86"
   },
   "source": [
    "# Assignment (1/5)\n",
    "\n",
    "1.1. Why do we remove cells with low UMI count (or library size)?\n",
    "\n",
    "A: They likely are drops that are empty (i.e. there is no cell in them). \n",
    "\n",
    "\n",
    "1.2. Why do we remove cells with high UMI count (or library size)?\n",
    "\n",
    "A: Cells with a high UMI are believed to be caused in this case by doublets, or two cells in the same drop.  We remove all cells with more than 12,000 UMI / cell since they might represent doublets of cells.\n"
   ]
  },
  {
   "cell_type": "markdown",
   "metadata": {
    "collapsed": true,
    "id": "pGrC9YiEacXc"
   },
   "source": [
    "<a id='preprocessing'></a>\n",
    "## 3. Preprocessing: Filtering, Normalizing, and Transforming\n",
    "\n",
    "All of these steps are carried out on the whole combined data.\n",
    "\n",
    "### Filtering\n",
    "\n",
    "We filter the data by: \n",
    "1. Removing dead cells  \n",
    "2. Filtering by library size (if we did not do this prior to combining batches)\n",
    "3. Removing genes that are expressed in relatively few cells."
   ]
  },
  {
   "cell_type": "markdown",
   "metadata": {
    "collapsed": true,
    "id": "3e3m5x8LacXd"
   },
   "source": [
    "### 3.1 Dead cell removal\n",
    "\n",
    "#### What does high mitochondrial gene expression indicate?\n",
    "\n",
    "Generally, we assume that cells with high detection of mitochondrial RNAs have undergone degradation of the mitochondrial membrane as a result of apoptosis. This may be from stress during dissociation, culture, or really anywhere in the experimental pipeline. As with the high and low library size cells, we want to remove the long tail from the distribution. In a successful experiment, it's typical for 5-10% of the cells to have this apoptotic signature.\n",
    "\n",
    "#### Plotting mitochondrial expression\n",
    "\n",
    "Let's look at the mitochondrial expression. You can do this using [`scprep.plot.plot_gene_set_expression()`](https://scprep.readthedocs.io/en/stable/reference.html#scprep.plot.plot_gene_set_expression), which conveniently gets you the list of mitochrondrial genes by name using the helper function [`scprep.select.get_gene_set()`](https://scprep.readthedocs.io/en/stable/reference.html#scprep.select.get_gene_set)."
   ]
  },
  {
   "cell_type": "code",
   "execution_count": 20,
   "metadata": {
    "colab": {
     "base_uri": "https://localhost:8080/",
     "height": 314
    },
    "id": "1ZKa468GacXe",
    "outputId": "f93e43a5-6101-403e-e326-0cfad82953ab",
    "scrolled": true
   },
   "outputs": [
    {
     "data": {
      "text/plain": [
       "<matplotlib.axes._subplots.AxesSubplot at 0x7f9700652310>"
      ]
     },
     "execution_count": 20,
     "metadata": {
      "tags": []
     },
     "output_type": "execute_result"
    },
    {
     "data": {
      "image/png": "[encoded data removed]",
      "text/plain": [
       "<Figure size 432x288 with 1 Axes>"
      ]
     },
     "metadata": {
      "needs_background": "light",
      "tags": []
     },
     "output_type": "display_data"
    }
   ],
   "source": [
    "# Plot all mitochondrial genes. There are 14, FYI.\n",
    "scprep.plot.plot_gene_set_expression(data, starts_with=\"MT-\",\n",
    "                                     library_size_normalize=True,\n",
    "                                     title=\"Mitochrondrial expression before filtering\")"
   ]
  },
  {
   "cell_type": "markdown",
   "metadata": {
    "id": "3PBCeKuPacXh"
   },
   "source": [
    "Here we see that above some threshold, there is a steep increase in expression of mitochondrial RNAs. We'll remove these cells from further analysis. Choose a cut-off based on the histogram above and plot your chosen value on a new histogram.\n",
    "\n",
    "### Filtering dead cells by mitochondrial expression"
   ]
  },
  {
   "cell_type": "code",
   "execution_count": 21,
   "metadata": {
    "colab": {
     "base_uri": "https://localhost:8080/",
     "height": 314
    },
    "id": "CWh_W4aKPK87",
    "outputId": "8bbfb56b-35f2-4748-ffa2-8d6ec74fa120"
   },
   "outputs": [
    {
     "data": {
      "text/plain": [
       "<matplotlib.axes._subplots.AxesSubplot at 0x7f96fd682f90>"
      ]
     },
     "execution_count": 21,
     "metadata": {
      "tags": []
     },
     "output_type": "execute_result"
    },
    {
     "data": {
      "image/png": "[encoded data removed]",
      "text/plain": [
       "<Figure size 432x288 with 1 Axes>"
      ]
     },
     "metadata": {
      "needs_background": "light",
      "tags": []
     },
     "output_type": "display_data"
    }
   ],
   "source": [
    "# ================\n",
    "# choose a cutoff at which to plot a red line such that you\n",
    "# remove cells with aberrant mitochondrial expression\n",
    "scprep.plot.plot_gene_set_expression(data, starts_with=\"MT-\",\n",
    "                                     library_size_normalize=True,\n",
    "                                     cutoff = 400)\n",
    "# ================"
   ]
  },
  {
   "cell_type": "markdown",
   "metadata": {
    "id": "1FlSHbvUPK87"
   },
   "source": [
    "Now we can remove those cells."
   ]
  },
  {
   "cell_type": "code",
   "execution_count": 22,
   "metadata": {
    "colab": {
     "base_uri": "https://localhost:8080/"
    },
    "id": "IYhfs7y9acXi",
    "outputId": "d13fcef2-b792-4d29-85d6-fef25dafecee"
   },
   "outputs": [
    {
     "data": {
      "text/plain": [
       "(9729, 33694)"
      ]
     },
     "execution_count": 22,
     "metadata": {
      "tags": []
     },
     "output_type": "execute_result"
    }
   ],
   "source": [
    "# ================\n",
    "# Fill in your chosen cutoff value\n",
    "cutoff = 400\n",
    "# ================\n",
    "data_filt, sample_labels = scprep.filter.filter_gene_set_expression(\n",
    "    data, sample_labels, starts_with=\"MT-\",\n",
    "    cutoff=cutoff, keep_cells='below', library_size_normalize=True)\n",
    "data_filt.shape"
   ]
  },
  {
   "cell_type": "markdown",
   "metadata": {
    "id": "AGUrhvnTPK87"
   },
   "source": [
    "After removing the top 10\\% of cells by mitochrondrial expression, we're left with 9,000 cells. Let's look at that histogram again."
   ]
  },
  {
   "cell_type": "code",
   "execution_count": 23,
   "metadata": {
    "colab": {
     "base_uri": "https://localhost:8080/",
     "height": 314
    },
    "id": "6zfhCkONPK88",
    "outputId": "cb0ee6db-c9d2-4e9e-de8e-0c73964243bb"
   },
   "outputs": [
    {
     "data": {
      "text/plain": [
       "<matplotlib.axes._subplots.AxesSubplot at 0x7f972b528350>"
      ]
     },
     "execution_count": 23,
     "metadata": {
      "tags": []
     },
     "output_type": "execute_result"
    },
    {
     "data": {
      "image/png": "[encoded data removed]",
      "text/plain": [
       "<Figure size 432x288 with 1 Axes>"
      ]
     },
     "metadata": {
      "needs_background": "light",
      "tags": []
     },
     "output_type": "display_data"
    }
   ],
   "source": [
    "scprep.plot.plot_gene_set_expression(data_filt, starts_with=\"MT-\",\n",
    "                                     library_size_normalize=True,\n",
    "                                     title=\"Mitochrondrial expression after filtering\")"
   ]
  },
  {
   "cell_type": "markdown",
   "metadata": {
    "id": "9bWYVibzPK88"
   },
   "source": [
    "Much better! We have a tight distribution without a long tail, indicating that all of our cells have relatively normal mitochondrial expression."
   ]
  },
  {
   "cell_type": "markdown",
   "metadata": {
    "collapsed": true,
    "id": "ZxLVx9q1acXo"
   },
   "source": [
    "### 3.2 - Filtering lowly expressed genes\n",
    "\n",
    "#### Why remove lowly expressed genes?\n",
    "\n",
    "Capturing RNA from single cells is a noisy process. The first round of reverse transcription is done in the presence of cell lysate. This results in capture of only 10-40% of the mRNA molecules in a cell leading to a phenomenon called dropout where some lowly expressed genes are not detected in cells in which they are expressed [[1](https://www.ncbi.nlm.nih.gov/pmc/articles/PMC5561556/#CR13), [2](https://www.ncbi.nlm.nih.gov/pmc/articles/PMC5561556/#CR44), [3](https://www.ncbi.nlm.nih.gov/pmc/articles/PMC5561556/#CR64), [4](https://www.ncbi.nlm.nih.gov/pmc/articles/PMC5561556/#CR65)]. As a result, some genes are so lowly expressed (or expressed not at all) that we do not have sufficient observations of that gene to make any inferences on its expression.\n",
    "\n",
    "Lowly expressed genes that may only be represented by a handful of mRNAs may not appear in a given dataset. Others might only be present in a small number of cells. Because we lack sufficient information about these genes, we remove lowly expressed genes from the gene expression matrix during preprocessing. Typically, if a gene is detected in only very few cells, it gets removed.\n",
    "\n",
    "Here, we can see that in the dataset, there are many genes that are detected in very few cells."
   ]
  },
  {
   "cell_type": "code",
   "execution_count": 24,
   "metadata": {
    "colab": {
     "base_uri": "https://localhost:8080/",
     "height": 368
    },
    "id": "MgP_3J8sPK88",
    "outputId": "97bfb695-83bf-428d-97f3-77c89274370d"
   },
   "outputs": [
    {
     "name": "stderr",
     "output_type": "stream",
     "text": [
      "/usr/local/lib/python3.7/dist-packages/scprep/plot/histogram.py:164: MatplotlibDeprecationWarning: SymmetricalLogScale got an unexpected keyword argument 'linthresh'. In the future this will raise TypeError\n",
      "  ax.set_xscale(\"symlog\", linthresh=abs_min)\n"
     ]
    },
    {
     "data": {
      "text/plain": [
       "<matplotlib.axes._subplots.AxesSubplot at 0x7f970b63ba90>"
      ]
     },
     "execution_count": 24,
     "metadata": {
      "tags": []
     },
     "output_type": "execute_result"
    },
    {
     "data": {
      "image/png": "[encoded data removed]",
      "text/plain": [
       "<Figure size 432x288 with 1 Axes>"
      ]
     },
     "metadata": {
      "needs_background": "light",
      "tags": []
     },
     "output_type": "display_data"
    }
   ],
   "source": [
    "scprep.plot.histogram(scprep.measure.gene_capture_count(data_filt), log=True,\n",
    "                      title=\"Gene capture before filtering\",\n",
    "                     xlabel='# of cells with nonzero expression',\n",
    "                     ylabel='# of genes')"
   ]
  },
  {
   "cell_type": "markdown",
   "metadata": {
    "id": "15NW6ZvGPK88"
   },
   "source": [
    "Again, we see a relatively clean distribution on the right (genes observed in many cells) with a head on the left with genes that are seen in very few cells (rarely detected genes). Where would you choose to cut this off?\n",
    "\n",
    "### Filtering rare genes"
   ]
  },
  {
   "cell_type": "code",
   "execution_count": 25,
   "metadata": {
    "colab": {
     "base_uri": "https://localhost:8080/"
    },
    "id": "s-0bfZ0EXaCF",
    "outputId": "531adb0d-a576-4b9c-e2e8-e231a03b15dd"
   },
   "outputs": [
    {
     "data": {
      "text/plain": [
       "(9729, 33694)"
      ]
     },
     "execution_count": 25,
     "metadata": {
      "tags": []
     },
     "output_type": "execute_result"
    }
   ],
   "source": [
    "data_filt.shape"
   ]
  },
  {
   "cell_type": "code",
   "execution_count": 26,
   "metadata": {
    "colab": {
     "base_uri": "https://localhost:8080/",
     "height": 368
    },
    "id": "PvwjMoaEPK88",
    "outputId": "d6aeb07c-c665-478b-c654-280f2a5a93e6"
   },
   "outputs": [
    {
     "name": "stderr",
     "output_type": "stream",
     "text": [
      "/usr/local/lib/python3.7/dist-packages/scprep/plot/histogram.py:164: MatplotlibDeprecationWarning: SymmetricalLogScale got an unexpected keyword argument 'linthresh'. In the future this will raise TypeError\n",
      "  ax.set_xscale(\"symlog\", linthresh=abs_min)\n"
     ]
    },
    {
     "data": {
      "text/plain": [
       "<matplotlib.axes._subplots.AxesSubplot at 0x7f972ad887d0>"
      ]
     },
     "execution_count": 26,
     "metadata": {
      "tags": []
     },
     "output_type": "execute_result"
    },
    {
     "data": {
      "image/png": "[encoded data removed]",
      "text/plain": [
       "<Figure size 432x288 with 1 Axes>"
      ]
     },
     "metadata": {
      "needs_background": "light",
      "tags": []
     },
     "output_type": "display_data"
    }
   ],
   "source": [
    "# ================\n",
    "# choose a cutoff\n",
    "scprep.plot.histogram(scprep.measure.gene_capture_count(data_filt), cutoff = 10,\n",
    "                      log=True,\n",
    "                      title=\"Gene capture before filtering\",\n",
    "                     xlabel='# of cells with nonzero expression',\n",
    "                     ylabel='# of genes')\n",
    "# ================"
   ]
  },
  {
   "cell_type": "markdown",
   "metadata": {
    "id": "wOWlojs8PK88"
   },
   "source": [
    "Let's go ahead and remove those genes."
   ]
  },
  {
   "cell_type": "code",
   "execution_count": 27,
   "metadata": {
    "id": "9pyvgVwracXq"
   },
   "outputs": [],
   "source": [
    "# ================\n",
    "# choose a cutoff\n",
    "cutoff = 10\n",
    "data_filt = scprep.filter.filter_rare_genes(data_filt, min_cells=cutoff)\n",
    "# ================"
   ]
  },
  {
   "cell_type": "markdown",
   "metadata": {
    "id": "jlSe4lYpPK89"
   },
   "source": [
    "We can plot the above histogram again for good measure. As you can see, the rare genes are all gone."
   ]
  },
  {
   "cell_type": "code",
   "execution_count": 28,
   "metadata": {
    "colab": {
     "base_uri": "https://localhost:8080/",
     "height": 368
    },
    "id": "Q7gs_bB6PK89",
    "outputId": "0b8cd780-7edf-43ef-b1af-cefe37ee7c34"
   },
   "outputs": [
    {
     "name": "stderr",
     "output_type": "stream",
     "text": [
      "/usr/local/lib/python3.7/dist-packages/scprep/plot/histogram.py:164: MatplotlibDeprecationWarning: SymmetricalLogScale got an unexpected keyword argument 'linthresh'. In the future this will raise TypeError\n",
      "  ax.set_xscale(\"symlog\", linthresh=abs_min)\n"
     ]
    },
    {
     "data": {
      "text/plain": [
       "<matplotlib.axes._subplots.AxesSubplot at 0x7f97246872d0>"
      ]
     },
     "execution_count": 28,
     "metadata": {
      "tags": []
     },
     "output_type": "execute_result"
    },
    {
     "data": {
      "image/png": "[encoded data removed]",
      "text/plain": [
       "<Figure size 432x288 with 1 Axes>"
      ]
     },
     "metadata": {
      "needs_background": "light",
      "tags": []
     },
     "output_type": "display_data"
    }
   ],
   "source": [
    "scprep.plot.histogram(scprep.measure.gene_capture_count(data_filt), cutoff=cutoff, log=True,\n",
    "                      title=\"Gene capture after filtering\",\n",
    "                     xlabel='# of cells with nonzero expression',\n",
    "                     ylabel='# of genes')"
   ]
  },
  {
   "cell_type": "code",
   "execution_count": 39,
   "metadata": {
    "colab": {
     "base_uri": "https://localhost:8080/"
    },
    "id": "Tj1Ue3PvPK89",
    "outputId": "9989f134-f871-4bab-a004-999f5e5ab9c7"
   },
   "outputs": [
    {
     "data": {
      "text/plain": [
       "(9733, 16497)"
      ]
     },
     "execution_count": 39,
     "metadata": {
      "tags": []
     },
     "output_type": "execute_result"
    }
   ],
   "source": [
    "data_filt.shape"
   ]
  },
  {
   "cell_type": "markdown",
   "metadata": {
    "id": "roOstMdEVr7B"
   },
   "source": [
    "# Assignment (2/5)\n",
    "\n",
    "*   Provide an interpretation of the threshold. What does 10 represent?\n",
    "\n",
    "A: 10, represented as 10^1 in the histogram, is the cut off point for genes we want to remove. Every gene to the left of this is removed. These are lowly expressed genes, so we must remove them since we don't have enough information about them. \n",
    "\n",
    "*   Provide arguments for why this threshold is reasonable.\n",
    "\n",
    "A: This is a very reasonable threshold because we leave our relatively clean distribution on the right (genes observed in many cells) and cut out the head on the left with genes that are seen in very few cells (rarely detected genes). \n",
    "\n",
    "* What does the most left tall bar on the \"before filtering\" plot repressent? How do you interpret it?\n",
    "\n",
    "A: This bar is all the genes that are not expressed at all. They are simply a result of the technical circumstances of the experiment rather than the biology behind the sample. Since they are just rarely detected genes, we discard them because their measurement is extremely unreliable. \n",
    "\n",
    "* How many genes did we filter out?\n",
    "\n",
    "A: We went from 33,694 genes to 16,497 genes, a difference of 17,197. "
   ]
  },
  {
   "cell_type": "markdown",
   "metadata": {
    "id": "W6AsfkMhPK89"
   },
   "source": [
    "This will be our last filtering step, though you can always filter out aberrant expression on an ad hoc basis. As it stands, we've quite significantly reduced our dataset from 10,000 x 33,000 that we started with. And that's not even counting the cells we removed by library size before combining time points!"
   ]
  },
  {
   "cell_type": "markdown",
   "metadata": {
    "id": "zTOt3GU2acXu"
   },
   "source": [
    "### 3.3 - Normalization\n",
    "\n",
    "As you saw during filtering, the range of library sizes between cells can be quite extreme. We visualized this for one time point pre-filtering, but let's now visualize the whole dataset, post-filtering."
   ]
  },
  {
   "cell_type": "code",
   "execution_count": 29,
   "metadata": {
    "colab": {
     "base_uri": "https://localhost:8080/",
     "height": 368
    },
    "id": "Ce_oBUs-PK89",
    "outputId": "40dca132-4f1a-410f-d67e-65020d1804a5"
   },
   "outputs": [
    {
     "name": "stderr",
     "output_type": "stream",
     "text": [
      "/usr/local/lib/python3.7/dist-packages/scprep/plot/histogram.py:164: MatplotlibDeprecationWarning: SymmetricalLogScale got an unexpected keyword argument 'linthresh'. In the future this will raise TypeError\n",
      "  ax.set_xscale(\"symlog\", linthresh=abs_min)\n"
     ]
    },
    {
     "data": {
      "text/plain": [
       "<matplotlib.axes._subplots.AxesSubplot at 0x7f971b687890>"
      ]
     },
     "execution_count": 29,
     "metadata": {
      "tags": []
     },
     "output_type": "execute_result"
    },
    {
     "data": {
      "image/png": "[encoded data removed]",
      "text/plain": [
       "<Figure size 432x288 with 1 Axes>"
      ]
     },
     "metadata": {
      "needs_background": "light",
      "tags": []
     },
     "output_type": "display_data"
    }
   ],
   "source": [
    "scprep.plot.plot_library_size(data_filt, title='Library size before normalization')"
   ]
  },
  {
   "cell_type": "markdown",
   "metadata": {
    "id": "beyiQq_2PK89"
   },
   "source": [
    "To correct for differences in library sizes, we divide each cell by its library size and then rescale by the a fixed value, sometimes the median library size. The default in `scprep` is to rescale every cell to 10,000 counts to make numbers comparable across datasets.\n",
    "\n",
    "In python this is performed using the preprocessing method [`scprep.normalize.library_size_normalize()`](https://scprep.readthedocs.io/en/stable/reference.html#scprep.normalize.library_size_normalize)."
   ]
  },
  {
   "cell_type": "code",
   "execution_count": 30,
   "metadata": {
    "id": "The5qKgGacXw"
   },
   "outputs": [],
   "source": [
    "data_norm, library_size = scprep.normalize.library_size_normalize(data_filt, return_library_size=True)"
   ]
  },
  {
   "cell_type": "markdown",
   "metadata": {
    "id": "al21Xem3PK8-"
   },
   "source": [
    "If you plot the library sizes again, you'll see they are all the same."
   ]
  },
  {
   "cell_type": "code",
   "execution_count": 31,
   "metadata": {
    "colab": {
     "base_uri": "https://localhost:8080/",
     "height": 368
    },
    "id": "I9YkZI72PK8-",
    "outputId": "55304b9a-cc29-4a34-e1a4-021b55f007a2"
   },
   "outputs": [
    {
     "name": "stderr",
     "output_type": "stream",
     "text": [
      "/usr/local/lib/python3.7/dist-packages/scprep/plot/histogram.py:164: MatplotlibDeprecationWarning: SymmetricalLogScale got an unexpected keyword argument 'linthresh'. In the future this will raise TypeError\n",
      "  ax.set_xscale(\"symlog\", linthresh=abs_min)\n"
     ]
    },
    {
     "data": {
      "text/plain": [
       "<matplotlib.axes._subplots.AxesSubplot at 0x7f96ff439550>"
      ]
     },
     "execution_count": 31,
     "metadata": {
      "tags": []
     },
     "output_type": "execute_result"
    },
    {
     "data": {
      "image/png": "[encoded data removed]",
      "text/plain": [
       "<Figure size 432x288 with 1 Axes>"
      ]
     },
     "metadata": {
      "needs_background": "light",
      "tags": []
     },
     "output_type": "display_data"
    }
   ],
   "source": [
    "scprep.plot.plot_library_size(data_norm, title='Library size after normalization')"
   ]
  },
  {
   "cell_type": "markdown",
   "metadata": {
    "id": "wBpXr9xZYIpM"
   },
   "source": [
    "# Assignment (3/5)\n",
    "\n",
    "What does library size repressent? \n",
    "\n",
    "A: The library size is the number of unique mRNA in the cell. \n",
    "\n",
    "Why are we normalizing sampled by their library size? \n",
    "\n",
    "A: The process of capturing RNA from a single cell is quite variable with a capture rate of only 10-40%. This is a big range that is simply due to the methods. We need to correct for this. \n",
    "\n",
    "What would be the impact on downstream analysis if we bypassing this step?\n",
    "\n",
    "A: Since we have combined all of our data together, we will surely get incorrect results if we do not normalize each library against each other. \n"
   ]
  },
  {
   "cell_type": "markdown",
   "metadata": {
    "id": "Y7MK9q6aPK8-"
   },
   "source": [
    "#### Creating the `metadata` DataFrame\n",
    "\n",
    "You'll notice now we have two metadata objects: `sample_labels` and `library_size`. We can make our lives easier by putting these into a DataFrame as follows."
   ]
  },
  {
   "cell_type": "code",
   "execution_count": 32,
   "metadata": {
    "colab": {
     "base_uri": "https://localhost:8080/",
     "height": 419
    },
    "id": "Y9G2AlVLPK8-",
    "outputId": "719c99ac-53d0-40dd-eab8-b821e35c46f8"
   },
   "outputs": [
    {
     "data": {
      "text/html": [
       "<div>\n",
       "<style scoped>\n",
       "    .dataframe tbody tr th:only-of-type {\n",
       "        vertical-align: middle;\n",
       "    }\n",
       "\n",
       "    .dataframe tbody tr th {\n",
       "        vertical-align: top;\n",
       "    }\n",
       "\n",
       "    .dataframe thead th {\n",
       "        text-align: right;\n",
       "    }\n",
       "</style>\n",
       "<table border=\"1\" class=\"dataframe\">\n",
       "  <thead>\n",
       "    <tr style=\"text-align: right;\">\n",
       "      <th></th>\n",
       "      <th>library_size</th>\n",
       "      <th>sample_labels</th>\n",
       "    </tr>\n",
       "  </thead>\n",
       "  <tbody>\n",
       "    <tr>\n",
       "      <th>AAACCGTGCAGAAA-1_Day 00-03</th>\n",
       "      <td>4602.0</td>\n",
       "      <td>Day 00-03</td>\n",
       "    </tr>\n",
       "    <tr>\n",
       "      <th>AAACCGTGGAAGGC-1_Day 00-03</th>\n",
       "      <td>7743.0</td>\n",
       "      <td>Day 00-03</td>\n",
       "    </tr>\n",
       "    <tr>\n",
       "      <th>AAACGCACCTATTC-1_Day 00-03</th>\n",
       "      <td>8082.0</td>\n",
       "      <td>Day 00-03</td>\n",
       "    </tr>\n",
       "    <tr>\n",
       "      <th>AAACGCACTCAGAC-1_Day 00-03</th>\n",
       "      <td>8073.0</td>\n",
       "      <td>Day 00-03</td>\n",
       "    </tr>\n",
       "    <tr>\n",
       "      <th>AAAGAGACTCTATC-1_Day 00-03</th>\n",
       "      <td>7384.0</td>\n",
       "      <td>Day 00-03</td>\n",
       "    </tr>\n",
       "    <tr>\n",
       "      <th>...</th>\n",
       "      <td>...</td>\n",
       "      <td>...</td>\n",
       "    </tr>\n",
       "    <tr>\n",
       "      <th>TTTCAGTGTGTGGT-1_Day 24-27</th>\n",
       "      <td>2242.0</td>\n",
       "      <td>Day 24-27</td>\n",
       "    </tr>\n",
       "    <tr>\n",
       "      <th>TTTCCAGATCAGGT-1_Day 24-27</th>\n",
       "      <td>4069.0</td>\n",
       "      <td>Day 24-27</td>\n",
       "    </tr>\n",
       "    <tr>\n",
       "      <th>TTTCCAGATGAAGA-1_Day 24-27</th>\n",
       "      <td>2895.0</td>\n",
       "      <td>Day 24-27</td>\n",
       "    </tr>\n",
       "    <tr>\n",
       "      <th>TTTCGAACTGAGAA-1_Day 24-27</th>\n",
       "      <td>2070.0</td>\n",
       "      <td>Day 24-27</td>\n",
       "    </tr>\n",
       "    <tr>\n",
       "      <th>TTTCTACTCTTATC-1_Day 24-27</th>\n",
       "      <td>2452.0</td>\n",
       "      <td>Day 24-27</td>\n",
       "    </tr>\n",
       "  </tbody>\n",
       "</table>\n",
       "<p>9729 rows × 2 columns</p>\n",
       "</div>"
      ],
      "text/plain": [
       "                            library_size sample_labels\n",
       "AAACCGTGCAGAAA-1_Day 00-03        4602.0     Day 00-03\n",
       "AAACCGTGGAAGGC-1_Day 00-03        7743.0     Day 00-03\n",
       "AAACGCACCTATTC-1_Day 00-03        8082.0     Day 00-03\n",
       "AAACGCACTCAGAC-1_Day 00-03        8073.0     Day 00-03\n",
       "AAAGAGACTCTATC-1_Day 00-03        7384.0     Day 00-03\n",
       "...                                  ...           ...\n",
       "TTTCAGTGTGTGGT-1_Day 24-27        2242.0     Day 24-27\n",
       "TTTCCAGATCAGGT-1_Day 24-27        4069.0     Day 24-27\n",
       "TTTCCAGATGAAGA-1_Day 24-27        2895.0     Day 24-27\n",
       "TTTCGAACTGAGAA-1_Day 24-27        2070.0     Day 24-27\n",
       "TTTCTACTCTTATC-1_Day 24-27        2452.0     Day 24-27\n",
       "\n",
       "[9729 rows x 2 columns]"
      ]
     },
     "execution_count": 32,
     "metadata": {
      "tags": []
     },
     "output_type": "execute_result"
    }
   ],
   "source": [
    "metadata = pd.concat([library_size, sample_labels], axis=1)\n",
    "metadata"
   ]
  },
  {
   "cell_type": "markdown",
   "metadata": {
    "id": "qtpLNUB2acX4"
   },
   "source": [
    "### 3.4 - Gene Count Transformation\n",
    "\n",
    "In scRNA-seq analysis, we often see that some genes are orders of magnitude more common than others. Let's have a look at the mean expression of each gene."
   ]
  },
  {
   "cell_type": "code",
   "execution_count": 33,
   "metadata": {
    "colab": {
     "base_uri": "https://localhost:8080/",
     "height": 314
    },
    "id": "hpUoStpDPK8_",
    "outputId": "86654259-92ad-4c6b-a9c5-8dc34073f5e6"
   },
   "outputs": [
    {
     "data": {
      "text/plain": [
       "<matplotlib.axes._subplots.AxesSubplot at 0x7f96fdf46e90>"
      ]
     },
     "execution_count": 33,
     "metadata": {
      "tags": []
     },
     "output_type": "execute_result"
    },
    {
     "data": {
      "image/png": "[encoded data removed]",
      "text/plain": [
       "<Figure size 432x288 with 1 Axes>"
      ]
     },
     "metadata": {
      "needs_background": "light",
      "tags": []
     },
     "output_type": "display_data"
    }
   ],
   "source": [
    "scprep.plot.histogram(data_norm.mean(axis=0), log='y',\n",
    "                      title=\"Gene counts before transformation\",\n",
    "                     xlabel='total # of gene counts',\n",
    "                     ylabel='# of genes')"
   ]
  },
  {
   "cell_type": "markdown",
   "metadata": {
    "id": "ra5bVYGtPK8_"
   },
   "source": [
    "In order to avoid these high-expression genes dominating the variation, the data is often $\\log$-transformed. This typically requires the addition of some small value to avoid taking $\\log(0)$. We avoid this issue entirely by instead taking the square root transform. The square root function has a similar form as the $\\log$ function with the added benefit of being stable at 0."
   ]
  },
  {
   "cell_type": "code",
   "execution_count": 34,
   "metadata": {
    "id": "gnWsT6p5acX5"
   },
   "outputs": [],
   "source": [
    "data_sqrt = scprep.transform.sqrt(data_norm)"
   ]
  },
  {
   "cell_type": "markdown",
   "metadata": {
    "id": "h7ruxM52PK8_"
   },
   "source": [
    "After transformation, you should see that the mean expression values are now much closer together."
   ]
  },
  {
   "cell_type": "code",
   "execution_count": 35,
   "metadata": {
    "colab": {
     "base_uri": "https://localhost:8080/",
     "height": 314
    },
    "id": "VegCg1L1PK8_",
    "outputId": "62557809-3372-4b1a-b2e6-d944bfa4f75a"
   },
   "outputs": [
    {
     "data": {
      "text/plain": [
       "<matplotlib.axes._subplots.AxesSubplot at 0x7f971f7615d0>"
      ]
     },
     "execution_count": 35,
     "metadata": {
      "tags": []
     },
     "output_type": "execute_result"
    },
    {
     "data": {
      "image/png": "[encoded data removed]",
      "text/plain": [
       "<Figure size 432x288 with 1 Axes>"
      ]
     },
     "metadata": {
      "needs_background": "light",
      "tags": []
     },
     "output_type": "display_data"
    }
   ],
   "source": [
    "scprep.plot.histogram(data_sqrt.mean(axis=0), log='y',\n",
    "                      title=\"Gene counts after transformation\",\n",
    "                     xlabel='total # of gene counts',\n",
    "                     ylabel='# of genes')"
   ]
  },
  {
   "cell_type": "markdown",
   "metadata": {
    "id": "hBC2vO-TPK8_"
   },
   "source": [
    "### 3.5 - Selecting highly variable genes\n",
    "\n",
    "Many workflows involve just selecting highly variable genes. Gene variability is defined as the variance relative to the expected variance for a given gene mean, or \"standardized variance\". That is, genes with high mean have naturally higher variance simply due to their magnitude; we are interested in the genes that vary more than one would expect by random chance.\n",
    "\n",
    "You can plot the standardized variance with [`scprep.plot.plot_gene_variability()`](https://scprep.readthedocs.io/en/stable/reference.html#scprep.plot.plot_gene_variability)."
   ]
  },
  {
   "cell_type": "code",
   "execution_count": 36,
   "metadata": {
    "colab": {
     "base_uri": "https://localhost:8080/",
     "height": 314
    },
    "id": "QhebhX44PK9A",
    "outputId": "d6148cd9-08d7-4508-fd1c-113ead9c794d"
   },
   "outputs": [
    {
     "data": {
      "text/plain": [
       "<matplotlib.axes._subplots.AxesSubplot at 0x7f9724348e90>"
      ]
     },
     "execution_count": 36,
     "metadata": {
      "tags": []
     },
     "output_type": "execute_result"
    },
    {
     "data": {
      "image/png": "[encoded data removed]",
      "text/plain": [
       "<Figure size 432x288 with 1 Axes>"
      ]
     },
     "metadata": {
      "needs_background": "light",
      "tags": []
     },
     "output_type": "display_data"
    }
   ],
   "source": [
    "scprep.plot.plot_gene_variability(data_sqrt, percentile=90)"
   ]
  },
  {
   "cell_type": "markdown",
   "metadata": {
    "id": "vRwPHGDlPK9A"
   },
   "source": [
    "If you wish to select just the highly variable genes, you can do so with [`scprep.select.highly_variable_genes()`](https://scprep.readthedocs.io/en/stable/reference.html#scprep.select.highly_variable_genes)."
   ]
  },
  {
   "cell_type": "code",
   "execution_count": 37,
   "metadata": {
    "id": "5RN1TLbEPK9A"
   },
   "outputs": [],
   "source": [
    "data_hvg = scprep.select.highly_variable_genes(data_sqrt, percentile=90)"
   ]
  },
  {
   "cell_type": "code",
   "execution_count": 38,
   "metadata": {
    "colab": {
     "base_uri": "https://localhost:8080/"
    },
    "id": "xYnWVG26PK9A",
    "outputId": "58dbf407-f122-4cd5-b528-4dce1ca56fe9"
   },
   "outputs": [
    {
     "data": {
      "text/plain": [
       "(9729, 1650)"
      ]
     },
     "execution_count": 38,
     "metadata": {
      "tags": []
     },
     "output_type": "execute_result"
    }
   ],
   "source": [
    "data_hvg.shape"
   ]
  },
  {
   "cell_type": "markdown",
   "metadata": {
    "id": "NsWcdDegPK9A"
   },
   "source": [
    "Unsurprisingly, we're now left with just 1,650 genes. This reduced size dataset can be useful for, for example, dimensionality reduction and clustering, which we will cover later in the week."
   ]
  },
  {
   "cell_type": "markdown",
   "metadata": {
    "id": "-DkY_NADPK9B"
   },
   "source": [
    "# Assignment (4/5)\n",
    "\n",
    "4.1. Why do we remove cells with high mitochondrial expression?\n",
    "\n",
    "A: Cells with a high detection of mitochondrial RNA are assumed to have undergone degradation of the mitochondrial membrane as a result of apoptosis. In other words, they are dead/dying. This could be due to a variety of factors, but it is mainly believed to be from stress during dissociation, culture, or anywhere else in the experimental pipeline. This can create a long tail on the distribution which we want to remove. However, certain cell types will have high mitochondrial expression, but not these. \n",
    "\n",
    "4.2. Why do we remove genes with non-zero expression in very few cells?\n",
    "\n",
    "A: These genes are extremely rarely expressed and would skew our dataset if not removed. It is hard to tell for sure why they are so rare. It could be a combination of noise and maybe they are also lowly expressed but also poor reverse transcription. \n",
    "\n",
    "4.3. Why do we apply a sublinear transformation (e.g. `sqrt` or `log`) to the normalized expression?\n",
    "\n",
    "A: Some genes are a lot more common than others. To prevent them from dominating the variation, the data needs to be log -transformed. This will bring the mean expression values closer together. \n",
    "\n"
   ]
  },
  {
   "cell_type": "markdown",
   "metadata": {
    "id": "-3LR5LUfPK9B"
   },
   "source": [
    "## Summary\n",
    "\n",
    "To summarize, we've preprocessed our data as follows:\n",
    "\n",
    "1. Filter by library size to remove empty droplets and doublets\n",
    "2. Combine batches\n",
    "3. Filter out rarely expressed genes\n",
    "4. Filter cells with high mitochrondrial expression\n",
    "5. Normalize by library size\n",
    "6. Square root transform\n",
    "7. (Optional) Select highly variable genes"
   ]
  },
  {
   "cell_type": "markdown",
   "metadata": {
    "id": "qoUoDtbjPK9B"
   },
   "source": [
    "# Assignment (5/5) \n",
    "### What happens if we don't preprocess correctly?\n",
    "\n",
    "We can compare the results of preprocessing by examining the data after dimensionality reduction (e.g. PCA, t-SNE, UMAP, PHATE). We'll learn more about these methods later, but for now, let's see what trends we can see in the data with and without correct preprocessing.\n",
    "\n",
    "Run the code below to understand the consequences of pre-processing the data appropriately. Provide a summary of your conclusions if we don't preprocess the data appropriately. Discuss which parameters did you change and how did affect the results? Which preprocessing workflow step had very strong effects on the output? Others which impacted less?"
   ]
  },
  {
   "cell_type": "markdown",
   "metadata": {
    "id": "0rv35-eXdl1G"
   },
   "source": [
    "PHATE is a dimensionality reduction algorithm to visualize the processed data. We will learn more about it on Wednesday."
   ]
  },
  {
   "cell_type": "code",
   "execution_count": 39,
   "metadata": {
    "colab": {
     "base_uri": "https://localhost:8080/"
    },
    "id": "targccxzPK9B",
    "outputId": "761c15cf-1316-4b22-c136-dc1d5798cec8"
   },
   "outputs": [
    {
     "name": "stdout",
     "output_type": "stream",
     "text": [
      "Collecting phate\n",
      "  Downloading https://files.pythonhosted.org/packages/0c/79/7f72c9d32bfd37a2d089fb4df8c50acb6e30813c33a7e9e982ef2f45c8d0/phate-1.0.7-py3-none-any.whl\n",
      "Requirement already satisfied: scprep>=0.11.1 in /usr/local/lib/python3.7/dist-packages (from phate) (1.0.13)\n",
      "Collecting Deprecated\n",
      "  Downloading https://files.pythonhosted.org/packages/d4/56/7d4774533d2c119e1873993d34d313c9c9efc88c5e4ab7e33bdf915ad98c/Deprecated-1.2.11-py2.py3-none-any.whl\n",
      "Collecting s-gd2>=1.5\n",
      "\u001b[?25l  Downloading https://files.pythonhosted.org/packages/ab/46/aa500f0141a184f2b94f0b26aa01722b2d74bca50b1c4a02ee388aee2dc7/s_gd2-1.8-cp37-cp37m-manylinux2010_x86_64.whl (416kB)\n",
      "\u001b[K     |████████████████████████████████| 419kB 7.9MB/s \n",
      "\u001b[?25hRequirement already satisfied: matplotlib>=3.0 in /usr/local/lib/python3.7/dist-packages (from phate) (3.2.2)\n",
      "Requirement already satisfied: numpy>=1.16.0 in /usr/local/lib/python3.7/dist-packages (from phate) (1.19.5)\n",
      "Requirement already satisfied: scikit-learn>=0.20.0 in /usr/local/lib/python3.7/dist-packages (from phate) (0.22.2.post1)\n",
      "Collecting graphtools>=1.3.1\n",
      "\u001b[?25l  Downloading https://files.pythonhosted.org/packages/dc/99/cc0d01f15c40656047caae88bbd3909ff535c116f2bba9e914423c8140e9/graphtools-1.5.2-py3-none-any.whl (45kB)\n",
      "\u001b[K     |████████████████████████████████| 51kB 5.2MB/s \n",
      "\u001b[?25hRequirement already satisfied: scipy>=1.1.0 in /usr/local/lib/python3.7/dist-packages (from phate) (1.4.1)\n",
      "Requirement already satisfied: future in /usr/local/lib/python3.7/dist-packages (from phate) (0.16.0)\n",
      "Requirement already satisfied: tasklogger>=1.0 in /usr/local/lib/python3.7/dist-packages (from phate) (1.0.0)\n",
      "Requirement already satisfied: decorator>=4.3.0 in /usr/local/lib/python3.7/dist-packages (from scprep>=0.11.1->phate) (4.4.2)\n",
      "Requirement already satisfied: pandas>=0.25 in /usr/local/lib/python3.7/dist-packages (from scprep>=0.11.1->phate) (1.1.5)\n",
      "Requirement already satisfied: packaging in /usr/local/lib/python3.7/dist-packages (from scprep>=0.11.1->phate) (20.9)\n",
      "Requirement already satisfied: wrapt<2,>=1.10 in /usr/local/lib/python3.7/dist-packages (from Deprecated->phate) (1.12.1)\n",
      "Requirement already satisfied: python-dateutil>=2.1 in /usr/local/lib/python3.7/dist-packages (from matplotlib>=3.0->phate) (2.8.1)\n",
      "Requirement already satisfied: pyparsing!=2.0.4,!=2.1.2,!=2.1.6,>=2.0.1 in /usr/local/lib/python3.7/dist-packages (from matplotlib>=3.0->phate) (2.4.7)\n",
      "Requirement already satisfied: kiwisolver>=1.0.1 in /usr/local/lib/python3.7/dist-packages (from matplotlib>=3.0->phate) (1.3.1)\n",
      "Requirement already satisfied: cycler>=0.10 in /usr/local/lib/python3.7/dist-packages (from matplotlib>=3.0->phate) (0.10.0)\n",
      "Requirement already satisfied: joblib>=0.11 in /usr/local/lib/python3.7/dist-packages (from scikit-learn>=0.20.0->phate) (1.0.1)\n",
      "Collecting pygsp>=0.5.1\n",
      "\u001b[?25l  Downloading https://files.pythonhosted.org/packages/d4/89/2f4aa73cccf12bec5179ac5d52a68b508120c838b7e5d456f5ea0c8beade/PyGSP-0.5.1-py2.py3-none-any.whl (1.8MB)\n",
      "\u001b[K     |████████████████████████████████| 1.8MB 52.9MB/s \n",
      "\u001b[?25hRequirement already satisfied: pytz>=2017.2 in /usr/local/lib/python3.7/dist-packages (from pandas>=0.25->scprep>=0.11.1->phate) (2018.9)\n",
      "Requirement already satisfied: six>=1.5 in /usr/local/lib/python3.7/dist-packages (from python-dateutil>=2.1->matplotlib>=3.0->phate) (1.15.0)\n",
      "Installing collected packages: Deprecated, s-gd2, pygsp, graphtools, phate\n",
      "Successfully installed Deprecated-1.2.11 graphtools-1.5.2 phate-1.0.7 pygsp-0.5.1 s-gd2-1.8\n"
     ]
    }
   ],
   "source": [
    "!pip install phate"
   ]
  },
  {
   "cell_type": "markdown",
   "metadata": {
    "id": "8JlCPQd5PK9B"
   },
   "source": [
    "#### Loading a subset of the data\n",
    "\n",
    "To make things faster, we'll use a smaller subset of the data for this section in dense data format."
   ]
  },
  {
   "cell_type": "code",
   "execution_count": 40,
   "metadata": {
    "id": "GRPlWDvLPK9B"
   },
   "outputs": [],
   "source": [
    "import phate\n",
    "\n",
    "sparse=True\n",
    "data_batches = []\n",
    "for time in [\"T0_1A\", \"T2_3B\", \"T4_5C\", \"T6_7D\", \"T8_9E\"]:\n",
    "    timepoint_data = scprep.io.load_10X(os.path.join(download_path, \"scRNAseq\", time),\n",
    "                                        sparse=False, gene_labels='both')\n",
    "    data_batches.append(scprep.select.subsample(timepoint_data, n=500))\n",
    "\n",
    "del timepoint_data"
   ]
  },
  {
   "cell_type": "markdown",
   "metadata": {
    "id": "dZ6xYPF5PK9B"
   },
   "source": [
    "#### End-to-end preprocessing pipeline"
   ]
  },
  {
   "cell_type": "markdown",
   "metadata": {
    "id": "O5mH9iw5PK9B"
   },
   "source": [
    "We've summarized the entire preprocessing pipeline below. Each run should take around a minute."
   ]
  },
  {
   "cell_type": "code",
   "execution_count": 41,
   "metadata": {
    "id": "Jy8ERxIiPK9B"
   },
   "outputs": [],
   "source": [
    "# library size filter\n",
    "data = []\n",
    "for batch in data_batches:\n",
    "    batch = scprep.filter.filter_library_size(batch, percentile=(10, 90))\n",
    "    data.append(batch)\n",
    "\n",
    "# combine batches\n",
    "data, sample_labels = scprep.utils.combine_batches(\n",
    "    data, \n",
    "    [\"Day 00-03\", \"Day 06-09\", \"Day 12-15\", \"Day 18-21\", \"Day 24-27\"]\n",
    ")\n",
    "\n",
    "# store library size and put it into a metadata dataframe\n",
    "libsize = scprep.measure.library_size(data)\n",
    "metadata = pd.concat([sample_labels, libsize], axis=1)\n",
    "\n",
    "# filter by mitochrondrial expression\n",
    "data, metadata = scprep.filter.filter_gene_set_expression(\n",
    "    data, metadata, starts_with=\"MT-\",\n",
    "    percentile=90, keep_cells='below', library_size_normalize=True)\n",
    "\n",
    "# remove rare genes\n",
    "data = scprep.filter.filter_rare_genes(data, cutoff=0, min_cells=10)\n",
    "\n",
    "# normalize\n",
    "data = scprep.normalize.library_size_normalize(data)\n",
    "\n",
    "# transform\n",
    "data = scprep.transform.sqrt(data)\n",
    "\n",
    "# highly variable genes\n",
    "data_hvg = scprep.select.highly_variable_genes(data, percentile=90)\n",
    "\n",
    "# dimensionality reduction for visualization\n",
    "data_phate = phate.PHATE(verbose=False).fit_transform(data_hvg)"
   ]
  },
  {
   "cell_type": "markdown",
   "metadata": {
    "id": "C2t8PccXPK9C"
   },
   "source": [
    "#### Plot the results\n",
    "\n",
    "We show the PHATE plot below with the following colorings:\n",
    "\n",
    "* Time point - we expect the time points to show a progression from early to late, with late points showing more heterogeneity\n",
    "* Library size - ideally there is relatively little variation between cells due to library size\n",
    "* HAND1 - this gene is a marker of cardiac progenitors\n",
    "* SOX2 - this gene is a marker of neural crest cells\n",
    "* Mitochondrial expression - this is a marker of apoptosis"
   ]
  },
  {
   "cell_type": "code",
   "execution_count": 42,
   "metadata": {
    "colab": {
     "base_uri": "https://localhost:8080/",
     "height": 203
    },
    "id": "LCPxeapjPK9C",
    "outputId": "e6f5444d-bcd9-48fc-e988-7eabf2f39175"
   },
   "outputs": [
    {
     "data": {
      "image/png": "[encoded data removed]",
      "text/plain": [
       "<Figure size 1440x288 with 9 Axes>"
      ]
     },
     "metadata": {
      "needs_background": "light",
      "tags": []
     },
     "output_type": "display_data"
    }
   ],
   "source": [
    "fig, axes = plt.subplots(1, 5, figsize=(20, 4))\n",
    "scprep.plot.scatter2d(data_phate, c=metadata['sample_labels'], title='Time',\n",
    "                      ticks=False, ax=axes[0], label_prefix='PHATE', cmap='viridis')\n",
    "scprep.plot.scatter2d(data_phate, c=metadata['library_size'], title='Library Size', cmap_scale='log',\n",
    "                      ticks=False, ax=axes[1], label_prefix='PHATE', cmap='viridis')\n",
    "scprep.plot.scatter2d(data_phate, c=scprep.select.select_cols(data, exact_word=\"HAND1\"), title='HAND1',\n",
    "                      ticks=False, ax=axes[2], label_prefix='PHATE', cmap='viridis')\n",
    "scprep.plot.scatter2d(data_phate, c=scprep.select.select_cols(data, exact_word=\"SOX2\"), title='SOX2',\n",
    "                      ticks=False, ax=axes[3], label_prefix='PHATE', cmap='viridis')\n",
    "scprep.plot.scatter2d(data_phate, c=scprep.measure.gene_set_expression(data, starts_with=\"MT-\"), title='Mitochondrial',\n",
    "                      ticks=False, ax=axes[4], label_prefix='PHATE', cmap='viridis')\n",
    "plt.tight_layout()"
   ]
  },
  {
   "cell_type": "markdown",
   "metadata": {
    "id": "Q0ct36qHPK9C"
   },
   "source": [
    "### What happens if you modify the preprocessing workflow?\n",
    "\n",
    "Choose a step of the preprocessing workflow and modify it. Select different thresholds or remove the step altogether and see what happens. Here are some suggestions to how to approach the assignment."
   ]
  },
  {
   "cell_type": "code",
   "execution_count": 43,
   "metadata": {
    "colab": {
     "base_uri": "https://localhost:8080/"
    },
    "id": "BEpdzegEPK9C",
    "outputId": "32cd3f18-4787-4bb7-dafa-ac43a40745d8"
   },
   "outputs": [
    {
     "name": "stdout",
     "output_type": "stream",
     "text": [
      "Calculating PHATE...\n",
      "  Running PHATE on 2351 observations and 468 variables.\n",
      "  Calculating graph and diffusion operator...\n",
      "    Calculating PCA...\n",
      "    Calculated PCA in 0.28 seconds.\n",
      "    Calculating KNN search...\n",
      "    Calculated KNN search in 0.98 seconds.\n",
      "    Calculating affinities...\n",
      "    Calculated affinities in 0.13 seconds.\n",
      "  Calculated graph and diffusion operator in 1.40 seconds.\n",
      "  Calculating landmark operator...\n",
      "    Calculating SVD...\n",
      "    Calculated SVD in 0.41 seconds.\n",
      "    Calculating KMeans...\n",
      "    Calculated KMeans in 40.09 seconds.\n",
      "  Calculated landmark operator in 41.83 seconds.\n",
      "  Calculating optimal t...\n",
      "    Automatically selected t = 21\n",
      "  Calculated optimal t in 4.98 seconds.\n",
      "  Calculating diffusion potential...\n",
      "  Calculated diffusion potential in 2.77 seconds.\n",
      "  Calculating metric MDS...\n",
      "  Calculated metric MDS in 8.68 seconds.\n",
      "Calculated PHATE in 59.68 seconds.\n"
     ]
    }
   ],
   "source": [
    "# library size filter\n",
    "data = []\n",
    "for batch in data_batches:\n",
    "    # ==========\n",
    "    # filter the batch by library size percentiles\n",
    "    batch_filt = scprep.filter.filter_library_size(batch, percentile=5)\n",
    "    # alternatives: percentile=20, percentile=(20,80), percentile=5, percentile=0\n",
    "    # ==========\n",
    "    data.append(batch_filt)\n",
    "\n",
    "# ===========\n",
    "# combine batches\n",
    "data, sample_labels = scprep.utils.combine_batches(\n",
    "    data, \n",
    "    [\"Day 00-03\", \"Day 06-09\", \"Day 12-15\", \"Day 18-21\", \"Day 24-27\"]\n",
    ")\n",
    "# ===========\n",
    "\n",
    "# ===========\n",
    "# store library size and put it into a metadata dataframe\n",
    "libsize = scprep.measure.library_size(data)\n",
    "metadata = pd.concat([sample_labels, libsize], axis=1)\n",
    "# ===========\n",
    "\n",
    "# ===========\n",
    "# filter by mitochrondrial expression\n",
    "data, metadata = scprep.filter.filter_gene_set_expression(\n",
    "    data, metadata, starts_with=\"MT-\",\n",
    "    percentile=99, keep_cells='below', library_size_normalize=True)\n",
    "# alternative: percentile=80, percentile=99, percentile=100\n",
    "# ===========\n",
    "\n",
    "# ===========\n",
    "# remove rare genes\n",
    "data = scprep.filter.filter_rare_genes(data, cutoff=0, min_cells=50)\n",
    "# alternative: min_cells=1, min_cells=50\n",
    "# ===========\n",
    "\n",
    "# ===========\n",
    "# normalize\n",
    "data = scprep.normalize.library_size_normalize(data)\n",
    "# ===========\n",
    "\n",
    "# ===========\n",
    "# sqrt transform\n",
    "data = scprep.transform.log(data)\n",
    "# alternatives: scprep.transform.log, scprep.transform.arcsinh\n",
    "# ===========\n",
    "\n",
    "# ===========\n",
    "# highly variable genes\n",
    "data_hvg = scprep.select.highly_variable_genes(data, percentile=95)\n",
    "# alternative: percentile=80, percentile=99, percentile=100\n",
    "# ===========\n",
    "\n",
    "# dimensionality reduction for visualization\n",
    "data_phate = phate.PHATE().fit_transform(data_hvg)"
   ]
  },
  {
   "cell_type": "code",
   "execution_count": 44,
   "metadata": {
    "colab": {
     "base_uri": "https://localhost:8080/",
     "height": 203
    },
    "id": "Qp9__IrpvCTX",
    "outputId": "35bd01ce-9088-4e7d-db09-314fb4d9aad2"
   },
   "outputs": [
    {
     "data": {
      "image/png": "[encoded data removed]",
      "text/plain": [
       "<Figure size 1440x288 with 9 Axes>"
      ]
     },
     "metadata": {
      "needs_background": "light",
      "tags": []
     },
     "output_type": "display_data"
    }
   ],
   "source": [
    "fig, axes = plt.subplots(1, 5, figsize=(20, 4))\n",
    "scprep.plot.scatter2d(data_phate, c=metadata['sample_labels'], title='Time',\n",
    "                      ticks=False, ax=axes[0], label_prefix='PHATE')\n",
    "scprep.plot.scatter2d(data_phate, c=metadata['library_size'], title='Library Size', cmap_scale='log',\n",
    "                      ticks=False, ax=axes[1], label_prefix='PHATE')\n",
    "scprep.plot.scatter2d(data_phate, c=scprep.select.select_cols(data, exact_word=\"HAND1\"), title='HAND1',\n",
    "                      ticks=False, ax=axes[2], label_prefix='PHATE')\n",
    "scprep.plot.scatter2d(data_phate, c=scprep.select.select_cols(data, exact_word=\"SOX2\"), title='SOX2',\n",
    "                      ticks=False, ax=axes[3], label_prefix='PHATE')\n",
    "scprep.plot.scatter2d(data_phate, c=scprep.measure.gene_set_expression(data, starts_with=\"MT-\"), title='Mitochondrial',\n",
    "                      ticks=False, ax=axes[4], label_prefix='PHATE')\n",
    "plt.tight_layout()"
   ]
  },
  {
   "cell_type": "markdown",
   "metadata": {
    "id": "5kAJnS2-vFKB"
   },
   "source": [
    "Intrepretation: \n",
    "\n",
    "Provide a summary of your conclusions if we don't preprocess the data appropriately. Discuss which parameters did you change and how did affect the results?\n",
    "\n",
    "A: I changed the library filtering, normalization, mitochondrial expression, rare genes and the type of transform. Results of this is discussed below. \n",
    "\n",
    "Which preprocessing workflow step had very strong effects on the output? \n",
    "\n",
    "A: Normalization is the biggest step. I think Library size filtering is also super important though. Without these two steps, we would not be able to intrepret our results.\n",
    "\n",
    "Others which impacted less?\n",
    "\n",
    "A: Mitochondrial filtering also has an impact but to a lesser degree than the other two. This largely depends on the cell type. All the other parameters changed above may be important depending on the dataset. Understanding your data and being able to determine what to change is important. "
   ]
  }
 ],
 "metadata": {
  "colab": {
   "name": "nik_vankeersbilck_week8_mon.ipynb",
   "provenance": [],
   "toc_visible": true
  },
  "kernelspec": {
   "display_name": "Python 3",
   "language": "python",
   "name": "python3"
  },
  "language_info": {
   "codemirror_mode": {
    "name": "ipython",
    "version": 3
   },
   "file_extension": ".py",
   "mimetype": "text/x-python",
   "name": "python",
   "nbconvert_exporter": "python",
   "pygments_lexer": "ipython3",
   "version": "3.8.3"
  }
 },
 "nbformat": 4,
 "nbformat_minor": 1
}
